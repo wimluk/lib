{
 "cells": [
  {
   "cell_type": "markdown",
   "metadata": {},
   "source": [
    "# Intermediate Python\n",
    "\n",
    "## Contents\n",
    "\n",
    "1. [Lists](#Lists)\n",
    "2. [Tuples](#Tuples)\n",
    "3. Dictionaries\n",
    "4. Sets\n",
    "5. Strings\n",
    "6. Collections\n",
    "7. Itertools\n",
    "8. Lambda Functions\n",
    "9. Exceptions and Errors\n",
    "10. Logging\n",
    "11. JSON\n",
    "12. Random Numbers\n",
    "13. Decorators\n",
    "14. Generators\n",
    "15. Threading vs Multiprocessing\n",
    "16. Multithreading\n",
    "17. Multiprocessing\n",
    "18. Function Arguments\n",
    "19. The Asterisk (*) Operator\n",
    "20. Shallow vs Deep Copying\n",
    "21. Context Managers"
   ]
  },
  {
   "cell_type": "markdown",
   "metadata": {},
   "source": [
    "### Lists\n",
    "ordered, mutable, allows duplicate elements"
   ]
  },
  {
   "cell_type": "code",
   "execution_count": null,
   "metadata": {},
   "outputs": [],
   "source": [
    "# create lists\n",
    "\n",
    "list1 = [1,2,3]\n",
    "print(list1)\n",
    "\n",
    "list2 = list()\n",
    "print(list2)\n",
    "\n",
    "list3 = [1,\"one\",True,\"one\"]\n",
    "print(list3)\n",
    "\n",
    "item1 = list3[0]\n",
    "print(item1)\n",
    "\n",
    "item2 = list3[-1]\n",
    "print(item2)\n",
    "\n",
    "print(len(list3))"
   ]
  },
  {
   "cell_type": "code",
   "execution_count": null,
   "metadata": {},
   "outputs": [],
   "source": [
    "# apply loop and statement\n",
    "\n",
    "list1 = [1,\"one\",True,\"one\"]\n",
    "print(list1)\n",
    "\n",
    "for i in list1:\n",
    "    print(i)\n",
    "\n",
    "if \"one\" in list1:\n",
    "    print(\"yes\")\n",
    "else:\n",
    "    print(\"no\")"
   ]
  },
  {
   "cell_type": "code",
   "execution_count": null,
   "metadata": {},
   "outputs": [],
   "source": [
    "# insterting and removing\n",
    "\n",
    "list1 = [1,\"one\",True,\"one\"]\n",
    "print(list1)\n",
    "\n",
    "list1.append(\"two\")\n",
    "print(list1)\n",
    "\n",
    "list1.insert(1,3)\n",
    "print(list1)\n",
    "\n",
    "list1.pop()\n",
    "print(list1)\n",
    "\n",
    "list1.remove(\"one\")\n",
    "print(list1)\n",
    "\n",
    "list1.clear()\n",
    "print(list1)"
   ]
  },
  {
   "cell_type": "code",
   "execution_count": null,
   "metadata": {},
   "outputs": [],
   "source": [
    "# sorting and reversing\n",
    "\n",
    "list1 = [1,5,4,3,2]\n",
    "print(list1)\n",
    "\n",
    "new_list1 = sorted(list1)\n",
    "print(list1)\n",
    "print(new_list1)\n",
    "\n",
    "list1.sort()\n",
    "print(list1)\n",
    "\n",
    "list1.reverse()\n",
    "print(list1)"
   ]
  },
  {
   "cell_type": "code",
   "execution_count": null,
   "metadata": {},
   "outputs": [],
   "source": [
    "# append a list to a list\n",
    "\n",
    "list1 = [1] * 5\n",
    "print(list1)\n",
    "\n",
    "list2 = [2] * 5\n",
    "print(list2)\n",
    "\n",
    "list3 = list1 + list2\n",
    "print(list3)"
   ]
  },
  {
   "cell_type": "code",
   "execution_count": null,
   "metadata": {},
   "outputs": [],
   "source": [
    "# slice\n",
    "\n",
    "list1 = [1,2,3,4,5,6,7,8,9,10]\n",
    "\n",
    "a = list1[1:5]\n",
    "print(a)\n",
    "\n",
    "a = list1[:5]\n",
    "print(a)\n",
    "\n",
    "a = list1[5:]\n",
    "print(a)\n",
    "\n",
    "a = list1[::1]\n",
    "print(a)\n",
    "\n",
    "a = list1[::2]\n",
    "print(a)\n",
    "\n",
    "a = list1[::-1]\n",
    "print(a)"
   ]
  },
  {
   "cell_type": "code",
   "execution_count": null,
   "metadata": {},
   "outputs": [],
   "source": [
    "# create a copy\n",
    "\n",
    "list1 = [\"one\",\"two\",\"three\"]\n",
    "list2 = list1\n",
    "\n",
    "list2.append(\"four\")\n",
    "\n",
    "print(list1)\n",
    "print(list2)\n",
    "\n",
    "list2 = list1.copy()\n",
    "\n",
    "list2.append(\"four\")\n",
    "\n",
    "print(list1)\n",
    "print(list2)\n",
    "\n",
    "list2 = list(list1)\n",
    "\n",
    "list2.append(\"four\")\n",
    "\n",
    "print(list1)\n",
    "print(list2)\n",
    "\n",
    "list2 = list1[:]\n",
    "\n",
    "list2.append(\"four\")\n",
    "\n",
    "print(list1)\n",
    "print(list2)"
   ]
  },
  {
   "cell_type": "code",
   "execution_count": null,
   "metadata": {},
   "outputs": [],
   "source": [
    "# list comprehension\n",
    "\n",
    "a = [1,2,3,4,5]\n",
    "b = [i*i for i in a]\n",
    "print(a)\n",
    "print(b)"
   ]
  },
  {
   "cell_type": "markdown",
   "metadata": {},
   "source": [
    "### Tuples\n",
    "ordered, immutable, allows duplicate elements"
   ]
  },
  {
   "cell_type": "code",
   "execution_count": null,
   "metadata": {},
   "outputs": [],
   "source": []
  }
 ],
 "metadata": {
  "kernelspec": {
   "display_name": "Python 3.9.5 64-bit",
   "language": "python",
   "name": "python3"
  },
  "language_info": {
   "codemirror_mode": {
    "name": "ipython",
    "version": 3
   },
   "file_extension": ".py",
   "mimetype": "text/x-python",
   "name": "python",
   "nbconvert_exporter": "python",
   "pygments_lexer": "ipython3",
   "version": "3.10.8"
  },
  "orig_nbformat": 4,
  "vscode": {
   "interpreter": {
    "hash": "52634da84371cba311ea128a5ea7cdc41ff074b781779e754b270ff9f8153cee"
   }
  }
 },
 "nbformat": 4,
 "nbformat_minor": 2
}
