{
 "cells": [
  {
   "cell_type": "markdown",
   "metadata": {},
   "source": [
    "# JSON"
   ]
  },
  {
   "cell_type": "code",
   "execution_count": null,
   "metadata": {},
   "outputs": [],
   "source": [
    "# convert to json, save as json file\n",
    "\n",
    "import json\n",
    "\n",
    "person = {'name': 'John', 'age': 30, 'city': 'New York', 'hasChildren': False, 'titles': ['engineer', 'programmer']}\n",
    "\n",
    "personJSON = json.dumps(person, indent=4)\n",
    "print(personJSON)\n",
    "\n",
    "personJSON = json.dumps(person, indent=4, separators=(';', '='))\n",
    "print(personJSON)\n",
    "\n",
    "personJSON = json.dumps(person, indent=4, sort_keys=True)\n",
    "print(personJSON)\n",
    "\n",
    "with open('person.json', 'w') as file:\n",
    "    json.dump(person, file, indent=4)"
   ]
  },
  {
   "cell_type": "code",
   "execution_count": null,
   "metadata": {},
   "outputs": [],
   "source": [
    "# convert to python (python: False; json: false)\n",
    "\n",
    "person = {'name': 'John', 'age': 30, 'city': 'New York', 'hasChildren': False, 'titles': ['engineer', 'programmer']}\n",
    "print(person)\n",
    "\n",
    "personJSON = json.dumps(person)\n",
    "print(personJSON)\n",
    "\n",
    "person = json.loads(personJSON)\n",
    "print(person)"
   ]
  },
  {
   "cell_type": "code",
   "execution_count": null,
   "metadata": {},
   "outputs": [],
   "source": [
    "# encode custom object with default arg\n",
    "\n",
    "import json\n",
    "\n",
    "class User:\n",
    "    def __init__(self, name, age) -> None:\n",
    "        self.name = name\n",
    "        self.age = age\n",
    "\n",
    "user = User('max',24)\n",
    "\n",
    "def encode_user(o):\n",
    "    if isinstance(o, User):\n",
    "        return {'name': o.name, 'age': o.age, o.__class__.__name__: True}\n",
    "    else:\n",
    "        raise TypeError('Object of type User is not JSON serializable')\n",
    "\n",
    "userJSON = json.dumps(user, default=encode_user)\n",
    "print(userJSON)"
   ]
  },
  {
   "cell_type": "code",
   "execution_count": null,
   "metadata": {},
   "outputs": [],
   "source": [
    "# encode and decode custom object with custom json encoder\n",
    "\n",
    "import json\n",
    "from json import JSONEncoder\n",
    "\n",
    "class User:\n",
    "    def __init__(self, name, age) -> None:\n",
    "        self.name = name\n",
    "        self.age = age\n",
    "\n",
    "user = User('max',24)\n",
    "\n",
    "class UserEncoder(JSONEncoder):\n",
    "    def default(self, o):\n",
    "        if isinstance(o, User):\n",
    "            return {'name': o.name, 'age': o.age, o.__class__.__name__: True}\n",
    "        return JSONEncoder.default(self, o)\n",
    "\n",
    "\n",
    "userJSON = json.dumps(user, cls=UserEncoder)\n",
    "print(userJSON)\n",
    "\n",
    "userJSON = UserEncoder().encode(user)\n",
    "print(userJSON)\n",
    "\n",
    "# decode to class User\n",
    "\n",
    "def decode_user(dct):\n",
    "    if User.__name__ in dct:\n",
    "        return User(name=dct['name'], age=dct['age'])\n",
    "    return dct\n",
    "\n",
    "user = json.loads(userJSON, object_hook=decode_user)\n",
    "print(type(user))\n",
    "print(user.name, user.age)"
   ]
  }
 ],
 "metadata": {
  "kernelspec": {
   "display_name": "Python 3.10.8 ('venv': venv)",
   "language": "python",
   "name": "python3"
  },
  "language_info": {
   "name": "python",
   "version": "3.10.8"
  },
  "orig_nbformat": 4,
  "vscode": {
   "interpreter": {
    "hash": "142ca9624609965c5345c206ad821a395b7b37f2798eab9c7d2bd58cb2dc44fe"
   }
  }
 },
 "nbformat": 4,
 "nbformat_minor": 2
}
