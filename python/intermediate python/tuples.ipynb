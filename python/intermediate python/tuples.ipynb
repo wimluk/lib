{
 "cells": [
  {
   "cell_type": "markdown",
   "metadata": {},
   "source": [
    "# Tuples\n",
    "ordered, immutable, allows duplicate elements\\\n",
    "can be more efficient than lists"
   ]
  },
  {
   "cell_type": "markdown",
   "metadata": {},
   "source": [
    "### create and access tuples"
   ]
  },
  {
   "cell_type": "code",
   "execution_count": null,
   "metadata": {},
   "outputs": [],
   "source": [
    "tuple1 = ('one', 2, True)\n",
    "print(tuple1)\n",
    "print(type(tuple1))\n",
    "\n",
    "tuple2 = ('one')\n",
    "print(tuple2)\n",
    "print(type(tuple2))\n",
    "\n",
    "tuple3 = ('one', )\n",
    "print(tuple3)\n",
    "print(type(tuple3))\n",
    "\n",
    "tuple4 = tuple(['one', 2, True])\n",
    "print(tuple4)\n",
    "print(type(tuple4))\n",
    "\n",
    "item1 = tuple4[0]\n",
    "print(item1)\n",
    "\n",
    "item2 = tuple4[-1]\n",
    "print(item2)"
   ]
  },
  {
   "cell_type": "markdown",
   "metadata": {},
   "source": [
    "### loops and statements"
   ]
  },
  {
   "cell_type": "code",
   "execution_count": null,
   "metadata": {},
   "outputs": [],
   "source": [
    "tuple1 = ('one', 2, True)\n",
    "\n",
    "for i in tuple1:\n",
    "    print(i)\n",
    "\n",
    "if 'one' in tuple1:\n",
    "    print('yes')\n",
    "else:\n",
    "    print('no')"
   ]
  },
  {
   "cell_type": "markdown",
   "metadata": {},
   "source": [
    "### methods and conversions"
   ]
  },
  {
   "cell_type": "code",
   "execution_count": null,
   "metadata": {},
   "outputs": [],
   "source": [
    "tuple1 = ('a', 'b', 'c', 'c', 'd')\n",
    "\n",
    "print(len(tuple1))\n",
    "print(tuple1.count('c'))\n",
    "print(tuple1.index('b'))\n",
    "\n",
    "list1 = list(tuple1)\n",
    "print(type(list1))\n",
    "\n",
    "tuple2 = tuple(list1)\n",
    "print(type(tuple2))"
   ]
  },
  {
   "cell_type": "markdown",
   "metadata": {},
   "source": [
    "### slicing"
   ]
  },
  {
   "cell_type": "code",
   "execution_count": null,
   "metadata": {},
   "outputs": [],
   "source": [
    "a = (1, 2, 3, 4, 5, 6)\n",
    "\n",
    "b = a[2:5]\n",
    "print(b)\n",
    "\n",
    "b = a[:5]\n",
    "print(b)\n",
    "\n",
    "b = a[2:]\n",
    "print(b)\n",
    "\n",
    "b = a[::]\n",
    "print(b)\n",
    "\n",
    "b = a[::-1]\n",
    "print(b)\n",
    "\n",
    "b = a[::2]\n",
    "print(b)"
   ]
  },
  {
   "cell_type": "markdown",
   "metadata": {},
   "source": [
    "### unpacking"
   ]
  },
  {
   "cell_type": "code",
   "execution_count": null,
   "metadata": {},
   "outputs": [],
   "source": [
    "tuple1 = ('max', 25, 'wien')\n",
    "\n",
    "(name, age, city) = tuple1\n",
    "\n",
    "print(name)\n",
    "print(age)\n",
    "print(city)\n",
    "\n",
    "tuple2 = (1, 2, 3, 4, 5, 6)\n",
    "\n",
    "(i1, *i2, i3) = tuple2\n",
    "\n",
    "print(i1)\n",
    "print(i2)\n",
    "print(i3)"
   ]
  },
  {
   "cell_type": "markdown",
   "metadata": {},
   "source": [
    "### efficiency comparison with lists"
   ]
  },
  {
   "cell_type": "code",
   "execution_count": null,
   "metadata": {},
   "outputs": [],
   "source": [
    "import sys\n",
    "\n",
    "tuple1 = (1, 2, 3, 'hello', True)\n",
    "list1 = [1, 2, 3, 'hello', True]\n",
    "\n",
    "print(sys.getsizeof(tuple1), 'bytes')\n",
    "print(sys.getsizeof(list1), 'bytes')\n",
    "\n",
    "import timeit\n",
    "\n",
    "print(timeit.timeit(stmt='(0, 1, 2, 3, 4, 5)', number=1000000))\n",
    "print(timeit.timeit(stmt='[0, 1, 2, 3, 4, 5]', number=1000000))"
   ]
  }
 ],
 "metadata": {
  "kernelspec": {
   "display_name": "Python 3.10.8 ('venv': venv)",
   "language": "python",
   "name": "python3"
  },
  "language_info": {
   "codemirror_mode": {
    "name": "ipython",
    "version": 3
   },
   "file_extension": ".py",
   "mimetype": "text/x-python",
   "name": "python",
   "nbconvert_exporter": "python",
   "pygments_lexer": "ipython3",
   "version": "3.10.8"
  },
  "orig_nbformat": 4,
  "vscode": {
   "interpreter": {
    "hash": "142ca9624609965c5345c206ad821a395b7b37f2798eab9c7d2bd58cb2dc44fe"
   }
  }
 },
 "nbformat": 4,
 "nbformat_minor": 2
}
