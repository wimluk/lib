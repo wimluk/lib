{
 "cells": [
  {
   "cell_type": "markdown",
   "metadata": {},
   "source": [
    "# Threading vs Multiprocessing"
   ]
  },
  {
   "cell_type": "markdown",
   "metadata": {},
   "source": [
    "### Process\n",
    "A Process is an instance of a program, e.g. a Python interpreter. They are independent from each other and do not share the same memory.\n",
    "\n",
    "Key facts:\n",
    "\n",
    "    + A new process is started independently from the first process\n",
    "    + Takes advantage of multiple CPUs and cores\n",
    "    + Separate memory space\n",
    "    + Memory is not shared between processes\n",
    "    + One GIL (Global interpreter lock) for each process, i.e. avoids GIL limitation\n",
    "    + Great for CPU-bound processing\n",
    "    + Child processes are interruptable/killable\n",
    "\n",
    "    - Starting a process is slower that starting a thread\n",
    "    - Larger memory footprint\n",
    "    - IPC (inter-process communication) is more complicated\n",
    "\n",
    "### Threads\n",
    "A thread is an entity within a process that can be scheduled for execution (Also known as \"leightweight process\"). A Process can spawn multiple threads. The main difference is that all threads within a process share the same memory.\n",
    "\n",
    "Key facts:\n",
    "\n",
    "    + Multiple threads can be spawned within one process\n",
    "    + Memory is shared between all threads\n",
    "    + Starting a thread is faster than starting a process\n",
    "    + Great for I/O-bound tasks\n",
    "    + Leightweight - low memory footprint\n",
    "\n",
    "    - One GIL for all threads, i.e. threads are limited by GIL\n",
    "    - Multithreading has no effect for CPU-bound tasks due to the GIL\n",
    "    - Not interruptible/killable -> be careful with memory leaks\n",
    "    - Increased potential for race conditions\n",
    "\n",
    "### GIL - Global interpreter lock\n",
    "This is a mutex (or a lock) that allows only one thread to hold control of the Python interpreter. This means that the GIL allows only one thread to execute at a time even in a multi-threaded architecture.\n",
    "\n",
    "Why is it needed?\n",
    "It is needed because CPython's (reference implementation of Python) memory management is not thread-safe. Python uses reference counting for memory management. It means that objects created in Python have a reference count variable that keeps track of the number of references that point to the object. When this count reaches zero, the memory occupied by the object is released. The problem was that this reference count variable needed protection from race conditions where two threads increase or decrease its value simultaneously. If this happens, it can cause either leaked memory that is never released or incorrectly release the memory while a reference to that object still exists.\n",
    "\n",
    "How to avoid the GIL\n",
    "The GIL is very controversial in the Python community. The main way to avoid the GIL is by using multiprocessing instead of threading. Another (however uncomfortable) solution would be to avoid the CPython implementation and use a free-threaded Python implementation like Jython or IronPython. A third option is to move parts of the application out into binary extensions modules, i.e. use Python as a wrapper for third party libraries (e.g. in C/C++). This is the path taken by numypy and scipy."
   ]
  },
  {
   "cell_type": "code",
   "execution_count": null,
   "metadata": {},
   "outputs": [],
   "source": [
    "from multiprocessing import Process\n",
    "import os\n",
    "\n",
    "\n",
    "def square_numbers():\n",
    "    for i in range(1000):\n",
    "        result = i * i\n",
    "\n",
    "\n",
    "if __name__ == \"__main__\":\n",
    "    processes = []\n",
    "    num_processes = os.cpu_count()\n",
    "\n",
    "    # create processes and asign a function for each process\n",
    "    for i in range(num_processes):\n",
    "        process = Process(target=square_numbers)\n",
    "        processes.append(process)\n",
    "\n",
    "    # start all processes\n",
    "    for process in processes:\n",
    "        process.start()\n",
    "\n",
    "    # wait for all processes to finish\n",
    "    # block the main thread until these processes are finished\n",
    "    for process in processes:\n",
    "        process.join()"
   ]
  },
  {
   "cell_type": "code",
   "execution_count": null,
   "metadata": {},
   "outputs": [],
   "source": [
    "from threading import Thread\n",
    "\n",
    "def square_numbers():\n",
    "    for i in range(1000):\n",
    "        result = i * i\n",
    "\n",
    "        \n",
    "if __name__ == \"__main__\":        \n",
    "    threads = []\n",
    "    num_threads = 10\n",
    "\n",
    "    # create threads and asign a function for each thread\n",
    "    for i in range(num_threads):\n",
    "        thread = Thread(target=square_numbers)\n",
    "        threads.append(thread)\n",
    "\n",
    "    # start all threads\n",
    "    for thread in threads:\n",
    "        thread.start()\n",
    "\n",
    "    # wait for all threads to finish\n",
    "    # block the main thread until these threads are finished\n",
    "    for thread in threads:\n",
    "        thread.join()"
   ]
  }
 ],
 "metadata": {
  "kernelspec": {
   "display_name": "Python 3.10.8 ('venv': venv)",
   "language": "python",
   "name": "python3"
  },
  "language_info": {
   "name": "python",
   "version": "3.10.8"
  },
  "orig_nbformat": 4,
  "vscode": {
   "interpreter": {
    "hash": "142ca9624609965c5345c206ad821a395b7b37f2798eab9c7d2bd58cb2dc44fe"
   }
  }
 },
 "nbformat": 4,
 "nbformat_minor": 2
}
