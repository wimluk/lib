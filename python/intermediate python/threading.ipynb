{
 "cells": [
  {
   "cell_type": "markdown",
   "metadata": {},
   "source": [
    "# Threading"
   ]
  },
  {
   "cell_type": "code",
   "execution_count": null,
   "metadata": {},
   "outputs": [],
   "source": [
    "# import Lock\n",
    "from threading import Thread, Lock\n",
    "import time\n",
    "\n",
    "\n",
    "database_value = 0\n",
    "\n",
    "def increase(lock):\n",
    "    global database_value \n",
    "    \n",
    "    # lock the state\n",
    "    lock.acquire()\n",
    "    \n",
    "    local_copy = database_value\n",
    "    local_copy += 1\n",
    "    time.sleep(0.1)\n",
    "    database_value = local_copy\n",
    "    \n",
    "    # unlock the state\n",
    "    lock.release()\n",
    "\n",
    "\n",
    "if __name__ == \"__main__\":\n",
    "\n",
    "    # create a lock\n",
    "    lock = Lock()\n",
    "    \n",
    "    print('Start value: ', database_value)\n",
    "\n",
    "    # pass the lock to the target function\n",
    "    t1 = Thread(target=increase, args=(lock,)) # notice the comma after lock since args must be a tuple\n",
    "    t2 = Thread(target=increase, args=(lock,))\n",
    "\n",
    "    t1.start()\n",
    "    t2.start()\n",
    "\n",
    "    t1.join()\n",
    "    t2.join()\n",
    "\n",
    "    print('End value:', database_value)\n",
    "\n",
    "    print('end main')"
   ]
  },
  {
   "cell_type": "markdown",
   "metadata": {},
   "source": [
    "After lock.acquire() you should never forget to call lock.release() to unblock the code. You can also use a lock as a context manager, wich will safely lock and unlock your code. It is recommended to use a lock this way:"
   ]
  },
  {
   "cell_type": "code",
   "execution_count": null,
   "metadata": {},
   "outputs": [],
   "source": [
    "def increase(lock):\n",
    "    global database_value \n",
    "    \n",
    "    with lock: \n",
    "        local_copy = database_value\n",
    "        local_copy += 1\n",
    "        time.sleep(0.1)\n",
    "        database_value = local_copy"
   ]
  },
  {
   "cell_type": "markdown",
   "metadata": {},
   "source": [
    "### queue"
   ]
  },
  {
   "cell_type": "code",
   "execution_count": null,
   "metadata": {},
   "outputs": [],
   "source": [
    "from queue import Queue\n",
    "\n",
    "# create queue\n",
    "q = Queue()\n",
    "\n",
    "# add elements\n",
    "q.put(1) # 1\n",
    "q.put(2) # 2 1\n",
    "q.put(3) # 3 2 1 \n",
    "\n",
    "# now q looks like this:\n",
    "# back --> 3 2 1 --> front\n",
    "\n",
    "# get and remove first element\n",
    "first = q.get() # --> 1\n",
    "print(first) \n",
    "\n",
    "# q looks like this:\n",
    "# back --> 3 2 --> front"
   ]
  },
  {
   "cell_type": "code",
   "execution_count": null,
   "metadata": {},
   "outputs": [],
   "source": [
    "from threading import Thread, Lock, current_thread\n",
    "from queue import Queue\n",
    "\n",
    "def worker(q, lock):\n",
    "    while True:\n",
    "        value = q.get()  # blocks until the item is available\n",
    "\n",
    "        # do stuff...\n",
    "        with lock:\n",
    "            # prevent printing at the same time with this lock\n",
    "            print(f\"in {current_thread().name} got {value}\")\n",
    "        # ...\n",
    "\n",
    "        # For each get(), a subsequent call to task_done() tells the queue\n",
    "        # that the processing on this item is complete.\n",
    "        # If all tasks are done, q.join() can unblock\n",
    "        q.task_done()\n",
    "\n",
    "\n",
    "if __name__ == '__main__':\n",
    "    q = Queue()\n",
    "    num_threads = 10\n",
    "    lock = Lock()\n",
    "\n",
    "    for i in range(num_threads):\n",
    "        t = Thread(name=f\"Thread{i+1}\", target=worker, args=(q, lock))\n",
    "        t.daemon = True  # dies when the main thread dies\n",
    "        t.start()\n",
    "    \n",
    "    # fill the queue with items\n",
    "    for x in range(20):\n",
    "        q.put(x)\n",
    "\n",
    "    q.join()  # Blocks until all items in the queue have been gotten and processed.\n",
    "\n",
    "    print('main done')"
   ]
  }
 ],
 "metadata": {
  "kernelspec": {
   "display_name": "Python 3.10.8 ('venv': venv)",
   "language": "python",
   "name": "python3"
  },
  "language_info": {
   "codemirror_mode": {
    "name": "ipython",
    "version": 3
   },
   "file_extension": ".py",
   "mimetype": "text/x-python",
   "name": "python",
   "nbconvert_exporter": "python",
   "pygments_lexer": "ipython3",
   "version": "3.10.8"
  },
  "orig_nbformat": 4,
  "vscode": {
   "interpreter": {
    "hash": "142ca9624609965c5345c206ad821a395b7b37f2798eab9c7d2bd58cb2dc44fe"
   }
  }
 },
 "nbformat": 4,
 "nbformat_minor": 2
}
