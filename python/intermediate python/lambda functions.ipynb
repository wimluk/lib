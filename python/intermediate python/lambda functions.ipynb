{
 "cells": [
  {
   "cell_type": "markdown",
   "metadata": {},
   "source": [
    "# Lambda funtions\n",
    "lambda arguments: expression\n",
    "used when a function is only used once or as an input for another function"
   ]
  },
  {
   "cell_type": "code",
   "execution_count": null,
   "metadata": {},
   "outputs": [],
   "source": [
    "from timeit import default_timer as timer\n",
    "\n",
    "start = timer()\n",
    "add10 = lambda x: x+10\n",
    "print(add10(5))\n",
    "stop = timer()\n",
    "print(stop-start)\n",
    "\n",
    "\n",
    "def add10_func(x):\n",
    "    print(x+10)\n",
    "\n",
    "start = timer()\n",
    "add10_func(5)\n",
    "stop = timer()\n",
    "print(stop-start)\n",
    "\n",
    "mult = lambda x, y: x*y\n",
    "print(mult(2, 3))"
   ]
  },
  {
   "cell_type": "markdown",
   "metadata": {},
   "source": [
    "### sorted"
   ]
  },
  {
   "cell_type": "code",
   "execution_count": null,
   "metadata": {},
   "outputs": [],
   "source": [
    "points2D = [(1, 2), (15, 1), (5, -1), (10, 4)]\n",
    "\n",
    "# by default it will sort by the first argument\n",
    "\n",
    "points2D_sorted = sorted(points2D)\n",
    "print(points2D)\n",
    "print(points2D_sorted)\n",
    "\n",
    "# to sort in other ways you can use a lambda function as key\n",
    "\n",
    "points2D_sorted = sorted(points2D,key=lambda x: x[1])\n",
    "print(points2D)\n",
    "print(points2D_sorted)\n",
    "\n",
    "points2D_sorted = sorted(points2D,key=lambda x: x[0] + x[1])\n",
    "print(points2D)\n",
    "print(points2D_sorted)"
   ]
  },
  {
   "cell_type": "markdown",
   "metadata": {},
   "source": [
    "### map\n",
    "transforms each element with a function"
   ]
  },
  {
   "cell_type": "code",
   "execution_count": null,
   "metadata": {},
   "outputs": [],
   "source": [
    "a = [1, 2, 3, 4, 5]\n",
    "b = map(lambda x: x*2, a)\n",
    "print(list(b))\n",
    "\n",
    "c = [x*2 for x in a]\n",
    "print(c)"
   ]
  },
  {
   "cell_type": "markdown",
   "metadata": {},
   "source": [
    "### filter\n",
    "returns all elements for which the filter function evaluates to true"
   ]
  },
  {
   "cell_type": "code",
   "execution_count": null,
   "metadata": {},
   "outputs": [],
   "source": [
    "a = [1, 2, 3, 4, 5]\n",
    "b = filter(lambda x: x%2==0, a)\n",
    "print(list(b))\n",
    "\n",
    "c = [x for x in a if x%2==0]\n",
    "print(c)"
   ]
  },
  {
   "cell_type": "markdown",
   "metadata": {},
   "source": [
    "# reduce\n",
    "it repeatedly applys a function to the elements and returns a single value"
   ]
  },
  {
   "cell_type": "code",
   "execution_count": null,
   "metadata": {},
   "outputs": [],
   "source": [
    "from functools import reduce\n",
    "\n",
    "a = [1, 2, 3, 4, 5, 6]\n",
    "\n",
    "prod_a = reduce(lambda x, y: x*y, a)\n",
    "print(prod_a)"
   ]
  }
 ],
 "metadata": {
  "kernelspec": {
   "display_name": "Python 3.10.8 ('venv': venv)",
   "language": "python",
   "name": "python3"
  },
  "language_info": {
   "codemirror_mode": {
    "name": "ipython",
    "version": 3
   },
   "file_extension": ".py",
   "mimetype": "text/x-python",
   "name": "python",
   "nbconvert_exporter": "python",
   "pygments_lexer": "ipython3",
   "version": "3.10.8"
  },
  "orig_nbformat": 4,
  "vscode": {
   "interpreter": {
    "hash": "142ca9624609965c5345c206ad821a395b7b37f2798eab9c7d2bd58cb2dc44fe"
   }
  }
 },
 "nbformat": 4,
 "nbformat_minor": 2
}
