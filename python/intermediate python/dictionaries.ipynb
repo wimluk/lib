{
 "cells": [
  {
   "cell_type": "markdown",
   "metadata": {},
   "source": [
    "# Dictionaries\n",
    "unordered, mutable, key-value pairs"
   ]
  },
  {
   "cell_type": "markdown",
   "metadata": {},
   "source": [
    "### create and access dicts"
   ]
  },
  {
   "cell_type": "code",
   "execution_count": null,
   "metadata": {},
   "outputs": [],
   "source": [
    "dict1 = {\"name\":\"max\",\"age\":28,\"student\":True}\n",
    "print(dict1)\n",
    "\n",
    "dict2 = dict(name=\"max\",age=28,student=True)\n",
    "print(dict2)\n",
    "\n",
    "value1 = dict1[\"name\"]\n",
    "print(value1)\n",
    "\n",
    "value2 = dict2[\"name\"]\n",
    "print(value2)\n",
    "\n",
    "dict1[\"city\"] = \"new york\"\n",
    "print(dict1)\n",
    "\n",
    "del dict1[\"name\"]\n",
    "print(dict1)\n",
    "\n",
    "dict1.pop(\"age\")\n",
    "print(dict1)\n",
    "\n",
    "dict1.popitem()\n",
    "print(dict1)"
   ]
  },
  {
   "cell_type": "markdown",
   "metadata": {},
   "source": [
    "### loops and statements"
   ]
  },
  {
   "cell_type": "code",
   "execution_count": null,
   "metadata": {},
   "outputs": [],
   "source": [
    "dict1 = {\"name\":\"max\",\"age\":28,\"student\":True}\n",
    "\n",
    "if \"name\" in dict1:\n",
    "    print(dict1[\"name\"])\n",
    "else:\n",
    "    print(\"no name in dict1\")\n",
    "\n",
    "try:\n",
    "    print(dict1[\"name\"])\n",
    "except:\n",
    "    print(\"error\")\n",
    "\n",
    "for key in dict1:\n",
    "    print(key)\n",
    "\n",
    "for key in dict1.keys():\n",
    "    print(key)\n",
    "\n",
    "for value in dict1.values():\n",
    "    print(value)\n",
    "\n",
    "for key, value in dict1.items():\n",
    "    print(key, value)"
   ]
  },
  {
   "cell_type": "markdown",
   "metadata": {},
   "source": [
    "### merging"
   ]
  },
  {
   "cell_type": "code",
   "execution_count": null,
   "metadata": {},
   "outputs": [],
   "source": [
    "dict1 = {\"name\":\"max\",\"age\":28,\"student\":True}\n",
    "dict2 = dict(name=\"mary\",age=23,city=\"new york\")\n",
    "\n",
    "dict1.update(dict2)\n",
    "print(dict1)"
   ]
  },
  {
   "cell_type": "markdown",
   "metadata": {},
   "source": [
    "### copying"
   ]
  },
  {
   "cell_type": "code",
   "execution_count": null,
   "metadata": {},
   "outputs": [],
   "source": [
    "dict1 = {\"name\":\"max\",\"age\":28,\"student\":True}\n",
    "\n",
    "dict2 = dict1\n",
    "print(dict1)\n",
    "print(dict2)\n",
    "\n",
    "dict2[\"city\"] = \"new york\"\n",
    "print(dict1)\n",
    "print(dict2)\n",
    "\n",
    "dict1 = {\"name\":\"max\",\"age\":28,\"student\":True}\n",
    "\n",
    "dict2 = dict1.copy()\n",
    "print(dict1)\n",
    "print(dict2)\n",
    "\n",
    "dict2[\"city\"] = \"new york\"\n",
    "print(dict1)\n",
    "print(dict2)\n",
    "\n",
    "dict1 = {\"name\":\"max\",\"age\":28,\"student\":True}\n",
    "\n",
    "dict2 = dict(dict1)\n",
    "print(dict1)\n",
    "print(dict2)\n",
    "\n",
    "dict2[\"city\"] = \"new york\"\n",
    "print(dict1)\n",
    "print(dict2)"
   ]
  },
  {
   "cell_type": "markdown",
   "metadata": {},
   "source": [
    "### use other types as key (you can use only immutable types, you cannot use something like a list)"
   ]
  },
  {
   "cell_type": "code",
   "execution_count": null,
   "metadata": {},
   "outputs": [],
   "source": [
    "dict1 = {3:9,6:28,9:19}\n",
    "print(dict1)\n",
    "print(dict1[3])\n",
    "\n",
    "tuple1 = (3,4)\n",
    "\n",
    "dict2 = {tuple1:7}\n",
    "print(dict2)\n"
   ]
  }
 ],
 "metadata": {
  "kernelspec": {
   "display_name": "Python 3.10.8 ('venv': venv)",
   "language": "python",
   "name": "python3"
  },
  "language_info": {
   "codemirror_mode": {
    "name": "ipython",
    "version": 3
   },
   "file_extension": ".py",
   "mimetype": "text/x-python",
   "name": "python",
   "nbconvert_exporter": "python",
   "pygments_lexer": "ipython3",
   "version": "3.10.8"
  },
  "orig_nbformat": 4,
  "vscode": {
   "interpreter": {
    "hash": "142ca9624609965c5345c206ad821a395b7b37f2798eab9c7d2bd58cb2dc44fe"
   }
  }
 },
 "nbformat": 4,
 "nbformat_minor": 2
}
