{
 "cells": [
  {
   "cell_type": "markdown",
   "metadata": {},
   "source": [
    "# Strings\n",
    "ordered, immutable, text representation"
   ]
  },
  {
   "cell_type": "markdown",
   "metadata": {},
   "source": [
    "### create and access strings"
   ]
  },
  {
   "cell_type": "code",
   "execution_count": null,
   "metadata": {},
   "outputs": [],
   "source": [
    "string1 = \"hello world\"\n",
    "print(string1)\n",
    "\n",
    "string2 = \"I'am\"\n",
    "string3 = 'I\\'am'\n",
    "string4 = \"\"\"Hello\n",
    "World\"\"\"\n",
    "string5 = \"\"\"Hello \\\n",
    "World\"\"\"\n",
    "print(string2)\n",
    "print(string3)\n",
    "print(string4)\n",
    "print(string5)\n",
    "\n",
    "char = string1[0]\n",
    "print(char)\n",
    "\n",
    "substring = string1[1:3]\n",
    "print(substring)\n",
    "\n",
    "substring = string1[::-1]\n",
    "print(substring)"
   ]
  },
  {
   "cell_type": "markdown",
   "metadata": {},
   "source": [
    "### loops and statements"
   ]
  },
  {
   "cell_type": "code",
   "execution_count": null,
   "metadata": {},
   "outputs": [],
   "source": [
    "string1 = \"hello\"\n",
    "\n",
    "for i in string1:\n",
    "    print(i)\n",
    "\n",
    "if \"e\" in string1:\n",
    "    print(\"yes\")\n",
    "else:\n",
    "    print(\"no\")"
   ]
  },
  {
   "cell_type": "markdown",
   "metadata": {},
   "source": [
    "### methods"
   ]
  },
  {
   "cell_type": "code",
   "execution_count": null,
   "metadata": {},
   "outputs": [],
   "source": [
    "a = \"hello\"\n",
    "b = \"tom\"\n",
    "\n",
    "c = a + \" \" + b\n",
    "print(c)\n",
    "\n",
    "string1 = \"   Hello   \"\n",
    "print(string1)\n",
    "\n",
    "string2 = string1.strip()\n",
    "print(string2)\n",
    "\n",
    "print(string2.upper())\n",
    "print(string2.lower())\n",
    "print(string2.startswith(\"Hel\"))\n",
    "print(string2.endswith(\"lo\"))\n",
    "print(string2.find(\"o\"))\n",
    "print(string2.find(\"llo\"))\n",
    "print(string2.find(\"gg\"))\n",
    "print(string2.count(\"l\"))\n",
    "print(string2.replace(\"lo\",\"as\"))"
   ]
  },
  {
   "cell_type": "markdown",
   "metadata": {},
   "source": [
    "### split and join"
   ]
  },
  {
   "cell_type": "code",
   "execution_count": null,
   "metadata": {},
   "outputs": [],
   "source": [
    "string1 = \"how u doin\"\n",
    "list1 = string1.split()\n",
    "print(list1)\n",
    "\n",
    "string2 = \"how,u,doin\"\n",
    "print(string2.split(\",\",1))\n",
    "\n",
    "string3 = \"\".join(list1)\n",
    "print(string3)\n",
    "\n",
    "string3 = \" \".join(list1)\n",
    "print(string3)"
   ]
  },
  {
   "cell_type": "markdown",
   "metadata": {},
   "source": [
    "### efficiency comparison"
   ]
  },
  {
   "cell_type": "code",
   "execution_count": null,
   "metadata": {},
   "outputs": [],
   "source": [
    "from timeit import default_timer as timer\n",
    "\n",
    "list1 = ['a'] * 1000000\n",
    "\n",
    "# bad practice\n",
    "\n",
    "start = timer()\n",
    "string1 = \"\"\n",
    "for i in list1:\n",
    "    string1 += i\n",
    "stop = timer()\n",
    "print(stop-start)\n",
    "\n",
    "# good practice\n",
    "\n",
    "start = timer()\n",
    "string1 = \"\".join(list1)\n",
    "print(stop-start)"
   ]
  },
  {
   "cell_type": "markdown",
   "metadata": {},
   "source": [
    "### formatting\n",
    "%, .format(), f-Strings"
   ]
  },
  {
   "cell_type": "code",
   "execution_count": null,
   "metadata": {},
   "outputs": [],
   "source": [
    "# old formatting style\n",
    "\n",
    "var = \"tom\"\n",
    "string1 = \"the variable is %s\" % var\n",
    "print(string1)\n",
    "\n",
    "var = 3.113487575876\n",
    "string1 = \"the variable is %d\" % var\n",
    "print(string1)\n",
    "\n",
    "var = 3.1342986756476\n",
    "string1 = \"the variable is %f\" % var\n",
    "print(string1)\n",
    "\n",
    "var = 3.1342986756476\n",
    "string1 = \"the variable is %.2f\" % var\n",
    "print(string1)\n",
    "\n",
    "# new formatting style\n",
    "\n",
    "var = 3.1342986756476\n",
    "string1 = \"the variable is {}\".format(var)\n",
    "print(string1)\n",
    "\n",
    "var = 3.1342986756476\n",
    "string1 = \"the variable is {:.2f}\".format(var)\n",
    "print(string1)\n",
    "\n",
    "var = 3.1342986756476\n",
    "var2 = 5\n",
    "string1 = \"the variable is {:.2f} and {}\".format(var,var2)\n",
    "print(string1)\n",
    "\n",
    "# most recent formatting style\n",
    "\n",
    "var = 3.1342986756476\n",
    "var2 = 5\n",
    "string1 = f\"the variable is {var} and {var2}\"\n",
    "print(string1)\n",
    "\n",
    "var = 3.1342986756476\n",
    "var2 = 5\n",
    "string1 = f\"the variable is {var:.2f} and {var2}\"\n",
    "print(string1)"
   ]
  }
 ],
 "metadata": {
  "kernelspec": {
   "display_name": "Python 3.10.8 ('venv': venv)",
   "language": "python",
   "name": "python3"
  },
  "language_info": {
   "codemirror_mode": {
    "name": "ipython",
    "version": 3
   },
   "file_extension": ".py",
   "mimetype": "text/x-python",
   "name": "python",
   "nbconvert_exporter": "python",
   "pygments_lexer": "ipython3",
   "version": "3.10.8"
  },
  "orig_nbformat": 4,
  "vscode": {
   "interpreter": {
    "hash": "142ca9624609965c5345c206ad821a395b7b37f2798eab9c7d2bd58cb2dc44fe"
   }
  }
 },
 "nbformat": 4,
 "nbformat_minor": 2
}
