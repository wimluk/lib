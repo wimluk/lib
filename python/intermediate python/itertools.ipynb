{
 "cells": [
  {
   "cell_type": "markdown",
   "metadata": {},
   "source": [
    "# Itertools\n",
    "product, permutations, combinations, accumulate, groupby and infinite iterators"
   ]
  },
  {
   "cell_type": "code",
   "execution_count": null,
   "metadata": {},
   "outputs": [],
   "source": [
    "from itertools import product\n",
    "\n",
    "a = [1, 2]\n",
    "b = [3, 4]\n",
    "\n",
    "prod = product(a, b)\n",
    "print(list(prod))\n",
    "\n",
    "prod = product(a, b, repeat=2)\n",
    "print(list(prod))"
   ]
  },
  {
   "cell_type": "code",
   "execution_count": null,
   "metadata": {},
   "outputs": [],
   "source": [
    "from itertools import permutations\n",
    "\n",
    "a = [1, 2, 3]\n",
    "\n",
    "perm = permutations(a)\n",
    "print(list(perm))\n",
    "\n",
    "perm = permutations(a, 2)\n",
    "print(list(perm))"
   ]
  },
  {
   "cell_type": "code",
   "execution_count": null,
   "metadata": {},
   "outputs": [],
   "source": [
    "from itertools import combinations, combinations_with_replacement\n",
    "\n",
    "a = [1, 2, 3, 4]\n",
    "\n",
    "comb = combinations(a, 2)\n",
    "print(list(comb))\n",
    "\n",
    "comb = combinations_with_replacement(a, 2)\n",
    "print(list(comb))"
   ]
  },
  {
   "cell_type": "code",
   "execution_count": null,
   "metadata": {},
   "outputs": [],
   "source": [
    "from itertools import accumulate\n",
    "import operator\n",
    "\n",
    "a = [1, 2, 3, 4]\n",
    "\n",
    "acc = accumulate(a)\n",
    "print(a)\n",
    "print(list(acc))\n",
    "\n",
    "acc = accumulate(a, func=operator.mul)\n",
    "print(a)\n",
    "print(list(acc))\n",
    "\n",
    "a = [1, 2, 5, 3, 4]\n",
    "\n",
    "acc = accumulate(a, func=max)\n",
    "print(a)\n",
    "print(list(acc))"
   ]
  },
  {
   "cell_type": "code",
   "execution_count": null,
   "metadata": {},
   "outputs": [],
   "source": [
    "from itertools import groupby\n",
    "\n",
    "def smaller_than_3(x):\n",
    "    return x < 3\n",
    "\n",
    "a = [1, 2, 3, 4]\n",
    "\n",
    "group_obj = groupby(a, key=smaller_than_3)\n",
    "\n",
    "for key, value in group_obj:\n",
    "    print(key, list(value))\n",
    "\n",
    "# with lambda expression\n",
    "\n",
    "a = [1, 2, 3, 4]\n",
    "\n",
    "group_obj = groupby(a, key=lambda x: x<3)\n",
    "\n",
    "for key, value in group_obj:\n",
    "    print(key, list(value))\n",
    "\n",
    "persons = [{'name':'tim','age':25},{'name':'dan','age':25},{'name':'lisa','age':27},{'name':'claire','age':28}]\n",
    "\n",
    "group_obj = groupby(persons,key=lambda x: x['age'])\n",
    "\n",
    "for key, value in group_obj:\n",
    "    print(key, list(value))\n"
   ]
  },
  {
   "cell_type": "code",
   "execution_count": null,
   "metadata": {},
   "outputs": [],
   "source": [
    "from itertools import count, cycle, repeat\n",
    "\n",
    "for i in count(10):\n",
    "    print(i)\n",
    "    if i == 15:\n",
    "        break\n",
    "\n",
    "a = [1, 2, 3, 10]\n",
    "\n",
    "for i in cycle(a):\n",
    "    print(i)\n",
    "    if i > 3:\n",
    "        break\n",
    "\n",
    "for i in repeat(1, 4):\n",
    "    print(i)"
   ]
  }
 ],
 "metadata": {
  "kernelspec": {
   "display_name": "Python 3.10.8 ('venv': venv)",
   "language": "python",
   "name": "python3"
  },
  "language_info": {
   "codemirror_mode": {
    "name": "ipython",
    "version": 3
   },
   "file_extension": ".py",
   "mimetype": "text/x-python",
   "name": "python",
   "nbconvert_exporter": "python",
   "pygments_lexer": "ipython3",
   "version": "3.10.8"
  },
  "orig_nbformat": 4,
  "vscode": {
   "interpreter": {
    "hash": "142ca9624609965c5345c206ad821a395b7b37f2798eab9c7d2bd58cb2dc44fe"
   }
  }
 },
 "nbformat": 4,
 "nbformat_minor": 2
}
