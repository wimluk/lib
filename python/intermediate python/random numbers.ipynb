{
 "cells": [
  {
   "cell_type": "markdown",
   "metadata": {},
   "source": [
    "# Random Numbers\n",
    "random module, secrets module, numpy module"
   ]
  },
  {
   "cell_type": "markdown",
   "metadata": {},
   "source": [
    "### random module\n",
    "pseudo random numbers, reproducible"
   ]
  },
  {
   "cell_type": "code",
   "execution_count": null,
   "metadata": {},
   "outputs": [],
   "source": [
    "import random\n",
    "\n",
    "a = random.random()\n",
    "print(a)\n",
    "\n",
    "a = random.uniform(1, 10)\n",
    "print(a)\n",
    "\n",
    "# end is included\n",
    "a = random.randint(1, 10)\n",
    "print(a)\n",
    "\n",
    "# end is not included\n",
    "a = random.randrange(1, 10)\n",
    "print(a)\n",
    "\n",
    "# pick a random value from a normal distribution with a mean of 0 and standard deviation of 1\n",
    "a = random.normalvariate(0, 1)\n",
    "print(a)\n",
    "\n",
    "mylist = list(\"ABCDEF\")\n",
    "\n",
    "# pick a random element\n",
    "a = random.choice(mylist)\n",
    "print(a)\n",
    "\n",
    "# pick a number of unique elements\n",
    "a = random.sample(mylist, 3)\n",
    "print(a)\n",
    "\n",
    "# pick a number of elements with duplicates\n",
    "a = random.choices(mylist, k=3)\n",
    "print(a)\n",
    "\n",
    "random.shuffle(mylist)\n",
    "print(mylist)"
   ]
  },
  {
   "cell_type": "code",
   "execution_count": null,
   "metadata": {},
   "outputs": [],
   "source": [
    "import random\n",
    "\n",
    "# reproducible with random.seed()\n",
    "\n",
    "random.seed(1)\n",
    "print(random.random())\n",
    "print(random.randint(1,10))\n",
    "\n",
    "random.seed(2)\n",
    "print(random.random())\n",
    "print(random.randint(1,10))\n",
    "\n",
    "random.seed(1)\n",
    "print(random.random())\n",
    "print(random.randint(1,10))\n",
    "\n",
    "random.seed(2)\n",
    "print(random.random())\n",
    "print(random.randint(1,10))"
   ]
  },
  {
   "cell_type": "markdown",
   "metadata": {},
   "source": [
    "### secrets module\n",
    "truly random numbers"
   ]
  },
  {
   "cell_type": "code",
   "execution_count": null,
   "metadata": {},
   "outputs": [],
   "source": [
    "import secrets\n",
    "\n",
    "a = secrets.randbelow(10)\n",
    "print(a)\n",
    "\n",
    "# number of binary values, 4 = 1010, 6 = 101010\n",
    "a = secrets.randbits(4)\n",
    "print(a)\n",
    "\n",
    "mylist = list(\"ABCDEF\")\n",
    "a = secrets.choice(mylist)\n",
    "print(a)"
   ]
  },
  {
   "cell_type": "markdown",
   "metadata": {},
   "source": [
    "### numpy module"
   ]
  },
  {
   "cell_type": "code",
   "execution_count": null,
   "metadata": {},
   "outputs": [],
   "source": [
    "import numpy as np\n",
    "\n",
    "arr = np.random.rand(3)\n",
    "print(arr)\n",
    "\n",
    "arr = np.random.rand(3, 4)\n",
    "print(arr)\n",
    "\n",
    "arr = np.random.randint(0, 10, 3)\n",
    "print(arr)\n",
    "\n",
    "arr = np.random.randint(0, 10, (3, 4))\n",
    "print(arr)\n",
    "\n",
    "np.random.shuffle(arr)\n",
    "print(arr)\n",
    "\n",
    "np.random.seed(1)\n",
    "print(np.random.rand(2, 2))\n",
    "np.random.seed(1)\n",
    "print(np.random.rand(2, 2))"
   ]
  },
  {
   "cell_type": "code",
   "execution_count": null,
   "metadata": {},
   "outputs": [],
   "source": []
  }
 ],
 "metadata": {
  "kernelspec": {
   "display_name": "Python 3.10.8 ('venv': venv)",
   "language": "python",
   "name": "python3"
  },
  "language_info": {
   "codemirror_mode": {
    "name": "ipython",
    "version": 3
   },
   "file_extension": ".py",
   "mimetype": "text/x-python",
   "name": "python",
   "nbconvert_exporter": "python",
   "pygments_lexer": "ipython3",
   "version": "3.10.8"
  },
  "orig_nbformat": 4,
  "vscode": {
   "interpreter": {
    "hash": "142ca9624609965c5345c206ad821a395b7b37f2798eab9c7d2bd58cb2dc44fe"
   }
  }
 },
 "nbformat": 4,
 "nbformat_minor": 2
}
