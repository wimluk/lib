{
 "cells": [
  {
   "cell_type": "markdown",
   "metadata": {},
   "source": [
    "# Logging\n",
    "log levels, configuration options, different modules, different handlers, capture stack traces, roating file handler"
   ]
  },
  {
   "cell_type": "code",
   "execution_count": null,
   "metadata": {},
   "outputs": [],
   "source": [
    "# 5 different log levels\n",
    "\n",
    "import logging\n",
    "\n",
    "logging.debug('This is a debug message')\n",
    "logging.info('This is an info message')\n",
    "logging.warning('This is a warning message')\n",
    "logging.error('This is an error message')\n",
    "logging.critical('This is a critical message')"
   ]
  },
  {
   "cell_type": "code",
   "execution_count": null,
   "metadata": {},
   "outputs": [],
   "source": [
    "import logging\n",
    "logging.basicConfig(level=logging.DEBUG,\n",
    "                    format='%(asctime)s - %(name)s - %(levelname)s - %(message)s',\n",
    "                    datefmt='%m/%d/%Y %H:%M:%S')\n",
    "\n",
    "logging.debug('This is a debug message')\n",
    "logging.info('This is an info message')\n",
    "logging.warning('This is a warning message')\n",
    "logging.error('This is an error message')\n",
    "logging.critical('This is a critical message')"
   ]
  },
  {
   "cell_type": "code",
   "execution_count": null,
   "metadata": {},
   "outputs": [],
   "source": [
    "# create own logger (change root logger to 'logger') and prevent propagation to base logger\n",
    "\n",
    "import logging\n",
    "\n",
    "logger = logging.getLogger('logger')\n",
    "logger.warning('hello from logger')\n",
    "\n",
    "logger = logging.getLogger('logger')\n",
    "logger.propagate = False\n",
    "logger.warning('hello from logger')\n"
   ]
  },
  {
   "cell_type": "code",
   "execution_count": null,
   "metadata": {},
   "outputs": [],
   "source": [
    "# log handler\n",
    "# use __name__ instead of 'test'\n",
    "\n",
    "import logging\n",
    "from logging import handlers\n",
    "logger = logging.getLogger('test') \n",
    "\n",
    "# create handler\n",
    "\n",
    "stream_h = logging.StreamHandler()\n",
    "#file_h = logging.FileHandler('file.log', mode='w')\n",
    "\n",
    "# level\n",
    "stream_h.setLevel(logging.WARNING)\n",
    "#file_h.setLevel(logging.ERROR)\n",
    "\n",
    "# format\n",
    "\n",
    "h_formatter = logging.Formatter('%(name)s - %(levelname)s - %(message)s')\n",
    "stream_h.setFormatter(h_formatter)\n",
    "#file_h.setFormatter(h_formatter)\n",
    "\n",
    "# add handler to logger\n",
    "\n",
    "logger.addHandler(stream_h)\n",
    "#logger.addHandler(file_h)\n",
    "\n",
    "logger.warning('this is a warning')\n",
    "logger.error('this is an error')\n",
    "\n",
    "logger.handlers.clear()"
   ]
  },
  {
   "cell_type": "code",
   "execution_count": null,
   "metadata": {},
   "outputs": [],
   "source": [
    "# stack traces\n",
    "\n",
    "import logging\n",
    "import traceback\n",
    "\n",
    "\n",
    "a = [1, 2, 3]\n",
    "\n",
    "try:\n",
    "    val = a[4]\n",
    "except IndexError as e:\n",
    "    logging.error(e, exc_info=True)\n",
    "\n",
    "try:\n",
    "    val = a[4]\n",
    "except:\n",
    "    logging.error(\"The error is %s\", traceback.format_exc())\n"
   ]
  },
  {
   "cell_type": "code",
   "execution_count": null,
   "metadata": {},
   "outputs": [],
   "source": [
    "# rotating file handlers\n",
    "\n",
    "import logging\n",
    "from logging.handlers import RotatingFileHandler\n",
    "\n",
    "logger = logging.getLogger(__name__)\n",
    "logger.setLevel(logging.INFO)\n",
    "\n",
    "handler = RotatingFileHandler('file.log', maxBytes=2000, backupCount=5)\n",
    "logger.addHandler(handler)\n",
    "\n",
    "for _ in range(1000):\n",
    "    logger.info('hello world')"
   ]
  },
  {
   "cell_type": "code",
   "execution_count": null,
   "metadata": {},
   "outputs": [],
   "source": [
    "# rotating file handlers\n",
    "\n",
    "import time\n",
    "import logging\n",
    "from logging.handlers import TimedRotatingFileHandler\n",
    "\n",
    "logger = logging.getLogger(__name__)\n",
    "logger.setLevel(logging.INFO)\n",
    "\n",
    "# s, m, h, d, midnight, w0\n",
    "handler = TimedRotatingFileHandler('file.log', when='s', interval=5, backupCount=5)\n",
    "logger.addHandler(handler)\n",
    "\n",
    "for _ in range(10):\n",
    "    logger.info('hello world')\n",
    "    time.sleep(5)"
   ]
  },
  {
   "cell_type": "code",
   "execution_count": null,
   "metadata": {},
   "outputs": [],
   "source": [
    "import time\n",
    "import logging\n",
    "from pythonjsonlogger import jsonlogger\n",
    "from logging.handlers import TimedRotatingFileHandler\n",
    "\n",
    "logger = logging.getLogger(__name__)\n",
    "logger.setLevel(logging.INFO)\n",
    "\n",
    "# s, m, h, d, midnight, w0\n",
    "handler = logging.StreamHandler()\n",
    "formatter = jsonlogger.JsonFormatter()\n",
    "handler.setFormatter(formatter)\n",
    "logger.addHandler(handler)\n",
    "\n",
    "for _ in range(10):\n",
    "    logger.info('hello world')"
   ]
  }
 ],
 "metadata": {
  "kernelspec": {
   "display_name": "Python 3.10.8 ('venv': venv)",
   "language": "python",
   "name": "python3"
  },
  "language_info": {
   "name": "python",
   "version": "3.10.8"
  },
  "orig_nbformat": 4,
  "vscode": {
   "interpreter": {
    "hash": "142ca9624609965c5345c206ad821a395b7b37f2798eab9c7d2bd58cb2dc44fe"
   }
  }
 },
 "nbformat": 4,
 "nbformat_minor": 2
}
