{
 "cells": [
  {
   "cell_type": "markdown",
   "metadata": {},
   "source": [
    "# Sets\n",
    "unordered, mutable, no duplicates"
   ]
  },
  {
   "cell_type": "markdown",
   "metadata": {},
   "source": [
    "### create and access sets"
   ]
  },
  {
   "cell_type": "code",
   "execution_count": null,
   "metadata": {},
   "outputs": [],
   "source": [
    "set1 = {1, 2, 3}\n",
    "print(set1)\n",
    "\n",
    "set2 = {1, 2, 3, 1, 2, 2}\n",
    "print(set2)\n",
    "\n",
    "list1 = [1, 2, 3]\n",
    "set3 = set(list1)\n",
    "print(set3)\n",
    "\n",
    "string1 = \"Hello\"\n",
    "set4 = set(string1)\n",
    "print(set4)\n",
    "\n",
    "emptyset1 = {}\n",
    "print(type(emptyset1))\n",
    "\n",
    "emptyset2 = set()\n",
    "print(type(emptyset2))"
   ]
  },
  {
   "cell_type": "markdown",
   "metadata": {},
   "source": [
    "### inserting and removing"
   ]
  },
  {
   "cell_type": "code",
   "execution_count": null,
   "metadata": {},
   "outputs": [],
   "source": [
    "set1 = set()\n",
    "\n",
    "set1.add(1)\n",
    "set1.add(2)\n",
    "set1.add(3)\n",
    "\n",
    "print(set1)\n",
    "\n",
    "# error when item is not found\n",
    "set1.remove(3)\n",
    "print(set1)\n",
    "\n",
    "try:\n",
    "    set1.remove(5)\n",
    "    print(set1)\n",
    "except:\n",
    "    print(\"Error\")\n",
    "    \n",
    "\n",
    "# no error when item is not found\n",
    "set1.discard(5)\n",
    "print(set1)\n",
    "\n",
    "set1.discard(2)\n",
    "print(set1)\n",
    "\n",
    "set1 = {1, 2, 3}\n",
    "print(set1.pop())\n",
    "print(set1)\n",
    "\n",
    "set1.clear()\n",
    "print(set1)"
   ]
  },
  {
   "cell_type": "markdown",
   "metadata": {},
   "source": [
    "### loops and statements"
   ]
  },
  {
   "cell_type": "code",
   "execution_count": null,
   "metadata": {},
   "outputs": [],
   "source": [
    "set1 = {1, 2, 3}\n",
    "\n",
    "for i in set1:\n",
    "    print(i)\n",
    "\n",
    "if 1 in set1:\n",
    "    print(\"yes\")\n",
    "else:\n",
    "    print(\"no\")"
   ]
  },
  {
   "cell_type": "markdown",
   "metadata": {},
   "source": [
    "### union and intersection"
   ]
  },
  {
   "cell_type": "code",
   "execution_count": null,
   "metadata": {},
   "outputs": [],
   "source": [
    "odds = {1, 3, 5, 7, 9}\n",
    "evens = {0, 2, 4, 6, 8}\n",
    "primes = {2, 3, 5, 7}\n",
    "\n",
    "# combine 2 sets without duplication\n",
    "u = odds.union(evens)\n",
    "print(u)\n",
    "\n",
    "# create a set with items found in both sets\n",
    "i = odds.intersection(primes)\n",
    "print(i)"
   ]
  },
  {
   "cell_type": "markdown",
   "metadata": {},
   "source": [
    "### difference"
   ]
  },
  {
   "cell_type": "code",
   "execution_count": null,
   "metadata": {},
   "outputs": [],
   "source": [
    "setA = {1, 2, 3, 4, 5, 6, 7, 8, 9}\n",
    "setB = {1, 2, 3, 10, 11, 12}\n",
    "\n",
    "# all elements that are in first set but not in both sets\n",
    "\n",
    "diff = setA.difference(setB)\n",
    "print(diff)\n",
    "\n",
    "diff = setB.difference(setA)\n",
    "print(diff)\n",
    "\n",
    "# all elements that are in either the first set or the second set but not in both\n",
    "\n",
    "diff = setB.symmetric_difference(setA)\n",
    "print(diff)\n",
    "\n",
    "# update first set with all elements from second set without duplicates\n",
    "\n",
    "setA.update(setB)\n",
    "print(setA)\n",
    "\n",
    "setA = {1, 2, 3, 4, 5, 6, 7, 8, 9}\n",
    "setB = {1, 2, 3, 10, 11, 12}\n",
    "\n",
    "# update first set that only elements remain that were in both sets\n",
    "\n",
    "setA.intersection_update(setB)\n",
    "print(setA)\n",
    "\n",
    "setA = {1, 2, 3, 4, 5, 6, 7, 8, 9}\n",
    "setB = {1, 2, 3, 10, 11, 12}\n",
    "\n",
    "# update first set that only elements remain that were in first set but not in both sets\n",
    "\n",
    "setA.difference_update(setB)\n",
    "print(setA)\n",
    "\n",
    "setA = {1, 2, 3, 4, 5, 6, 7, 8, 9}\n",
    "setB = {1, 2, 3, 10, 11, 12}\n",
    "\n",
    "# update first set that only elements remain that were in either the first set or the second set but not in both\n",
    "\n",
    "\n",
    "setA.symmetric_difference_update(setB)\n",
    "print(setA)"
   ]
  },
  {
   "cell_type": "markdown",
   "metadata": {},
   "source": [
    "### subsets"
   ]
  },
  {
   "cell_type": "code",
   "execution_count": null,
   "metadata": {},
   "outputs": [],
   "source": [
    "setA = {1, 2, 3, 4, 5}\n",
    "setB = {1, 2, 3}\n",
    "setC = {10, 11, 12}\n",
    "\n",
    "# if all elements from second set are in first set -> True\n",
    "\n",
    "print(setA.issubset(setB))\n",
    "print(setB.issubset(setA))\n",
    "\n",
    "# if all elements from first set are in second set -> True\n",
    "\n",
    "print(setA.issuperset(setB))\n",
    "print(setB.issuperset(setA))\n",
    "\n",
    "# if no elements from first set are in second set -> True (null intersection)\n",
    "\n",
    "print(setA.isdisjoint(setB))\n",
    "print(setA.isdisjoint(setC))"
   ]
  },
  {
   "cell_type": "markdown",
   "metadata": {},
   "source": [
    "### copying"
   ]
  },
  {
   "cell_type": "code",
   "execution_count": null,
   "metadata": {},
   "outputs": [],
   "source": [
    "setA = {1, 2, 3, 4, 5}\n",
    "setB = setA\n",
    "\n",
    "setB.add(7)\n",
    "\n",
    "print(setA)\n",
    "print(setB)\n",
    "\n",
    "setA = {1, 2, 3, 4, 5}\n",
    "\n",
    "setB = setA.copy()\n",
    "\n",
    "setB.add(7)\n",
    "\n",
    "print(setA)\n",
    "print(setB)\n",
    "\n",
    "setA = {1, 2, 3, 4, 5}\n",
    "\n",
    "setB = set(setA)\n",
    "\n",
    "setB.add(7)\n",
    "\n",
    "print(setA)\n",
    "print(setB)"
   ]
  },
  {
   "cell_type": "markdown",
   "metadata": {},
   "source": [
    "### frozen sets (immutable)"
   ]
  },
  {
   "cell_type": "code",
   "execution_count": null,
   "metadata": {},
   "outputs": [],
   "source": [
    "setA = frozenset([1, 2, 3])\n",
    "setB = frozenset([2, 3, 4])\n",
    "\n",
    "try:\n",
    "    setA.add(2)\n",
    "except:\n",
    "    print(\"error\")\n",
    "\n",
    "print(setA)\n",
    "\n",
    "print(setA.union(setB))\n",
    "print(setA.intersection(setB))\n",
    "print(setA.difference(setB))\n",
    "print(set(setA))"
   ]
  }
 ],
 "metadata": {
  "kernelspec": {
   "display_name": "Python 3.10.8 ('venv': venv)",
   "language": "python",
   "name": "python3"
  },
  "language_info": {
   "codemirror_mode": {
    "name": "ipython",
    "version": 3
   },
   "file_extension": ".py",
   "mimetype": "text/x-python",
   "name": "python",
   "nbconvert_exporter": "python",
   "pygments_lexer": "ipython3",
   "version": "3.10.8"
  },
  "orig_nbformat": 4,
  "vscode": {
   "interpreter": {
    "hash": "142ca9624609965c5345c206ad821a395b7b37f2798eab9c7d2bd58cb2dc44fe"
   }
  }
 },
 "nbformat": 4,
 "nbformat_minor": 2
}
