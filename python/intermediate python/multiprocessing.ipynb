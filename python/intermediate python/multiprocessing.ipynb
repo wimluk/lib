{
 "cells": [
  {
   "cell_type": "markdown",
   "metadata": {},
   "source": [
    "# Multiprocessing"
   ]
  },
  {
   "cell_type": "code",
   "execution_count": null,
   "metadata": {},
   "outputs": [],
   "source": [
    "from multiprocessing import Lock\n",
    "from multiprocessing import Process, Value, Array\n",
    "import time\n",
    "\n",
    "def add_100(number, lock):\n",
    "    for _ in range(100):\n",
    "        time.sleep(0.01)\n",
    "        with lock:\n",
    "            number.value += 1\n",
    "\n",
    "def add_100_array(numbers, lock):\n",
    "    for _ in range(100):\n",
    "        time.sleep(0.01)\n",
    "        for i in range(len(numbers)):\n",
    "            with lock:\n",
    "                numbers[i] += 1\n",
    "\n",
    "if __name__ == \"__main__\":\n",
    "\n",
    "    # create a lock\n",
    "    lock = Lock()\n",
    "    \n",
    "    shared_number = Value('i', 0) \n",
    "    print('Value at beginning:', shared_number.value)\n",
    "\n",
    "    shared_array = Array('d', [0.0, 100.0, 200.0])\n",
    "    print('Array at beginning:', shared_array[:])\n",
    "\n",
    "    # pass the lock to the target function\n",
    "    process1 = Process(target=add_100, args=(shared_number, lock))\n",
    "    process2 = Process(target=add_100, args=(shared_number, lock))\n",
    "\n",
    "    process3 = Process(target=add_100_array, args=(shared_array, lock))\n",
    "    process4 = Process(target=add_100_array, args=(shared_array, lock))\n",
    "\n",
    "    process1.start()\n",
    "    process2.start()\n",
    "    process3.start()\n",
    "    process4.start()\n",
    "\n",
    "    process1.join()\n",
    "    process2.join()\n",
    "    process3.join()\n",
    "    process4.join()\n",
    "\n",
    "    print('Value at end:', shared_number.value)\n",
    "    print('Array at end:', shared_array[:])\n",
    "\n",
    "    print('end main')"
   ]
  },
  {
   "cell_type": "code",
   "execution_count": null,
   "metadata": {},
   "outputs": [],
   "source": [
    "# communicate between processes with the multiprocessing Queue\n",
    "# Queues are thread and process safe\n",
    "from multiprocessing import Process, Queue\n",
    "\n",
    "def square(numbers, queue):\n",
    "    for i in numbers:\n",
    "        queue.put(i*i)\n",
    "\n",
    "def make_negative(numbers, queue):\n",
    "    for i in numbers:\n",
    "        queue.put(i*-1)\n",
    "\n",
    "if __name__ == \"__main__\":\n",
    "    \n",
    "    numbers = range(1, 6)\n",
    "    q = Queue()\n",
    "\n",
    "    p1 = Process(target=square, args=(numbers,q))\n",
    "    p2 = Process(target=make_negative, args=(numbers,q))\n",
    "\n",
    "    p1.start()\n",
    "    p2.start()\n",
    "\n",
    "    p1.join()\n",
    "    p2.join()\n",
    "\n",
    "    # order might not be sequential\n",
    "    while not q.empty():\n",
    "        print(q.get())\n",
    "        \n",
    "    print('end main')"
   ]
  },
  {
   "cell_type": "code",
   "execution_count": 7,
   "metadata": {},
   "outputs": [],
   "source": [
    "from multiprocessing import Pool \n",
    "\n",
    "def cube(number):\n",
    "    return number * number * number\n",
    "\n",
    "    \n",
    "if __name__ == \"__main__\":\n",
    "    numbers = range(10)\n",
    "    \n",
    "    p = Pool()\n",
    "\n",
    "    # by default this allocates the maximum number of available \n",
    "    # processors for this task --> os.cpu_count()\n",
    "    result = p.map(cube,  numbers)\n",
    "    \n",
    "    # or \n",
    "    # result = [p.apply(cube, args=(i,)) for i in numbers]\n",
    "    \n",
    "    p.close()\n",
    "    p.join()\n",
    "    \n",
    "    print(result)"
   ]
  }
 ],
 "metadata": {
  "kernelspec": {
   "display_name": "Python 3.10.8 ('venv': venv)",
   "language": "python",
   "name": "python3"
  },
  "language_info": {
   "codemirror_mode": {
    "name": "ipython",
    "version": 3
   },
   "file_extension": ".py",
   "mimetype": "text/x-python",
   "name": "python",
   "nbconvert_exporter": "python",
   "pygments_lexer": "ipython3",
   "version": "3.10.8"
  },
  "orig_nbformat": 4,
  "vscode": {
   "interpreter": {
    "hash": "142ca9624609965c5345c206ad821a395b7b37f2798eab9c7d2bd58cb2dc44fe"
   }
  }
 },
 "nbformat": 4,
 "nbformat_minor": 2
}
