{
 "cells": [
  {
   "cell_type": "markdown",
   "metadata": {},
   "source": [
    "# Decorators"
   ]
  },
  {
   "cell_type": "markdown",
   "metadata": {},
   "source": [
    "### function decorator"
   ]
  },
  {
   "cell_type": "code",
   "execution_count": null,
   "metadata": {},
   "outputs": [],
   "source": [
    "# a decorator is a function that takes another function as argument\n",
    "# it extends the function without explicitly modifying it\n",
    "# it allows to add new funtionality to an existing function\n",
    "# functions in python are first class objects. they can be defined inside a function, passed as an argument and returned\n",
    "\n",
    "# extend the print_name function with mydecorator method 1\n",
    "\n",
    "def mydecorator(func):\n",
    "\n",
    "    def mywrapper():\n",
    "        # here you can add funtionality\n",
    "        func()\n",
    "        # here you can add funtionality\n",
    "    return mywrapper\n",
    "\n",
    "def print_name():\n",
    "    print('Alex')\n",
    "\n",
    "print_name = mydecorator(print_name)\n",
    "\n",
    "print_name()\n",
    "\n",
    "# extend the print_name function with mydecorator method 2\n",
    "\n",
    "def mydecorator(func):\n",
    "\n",
    "    def mywrapper():\n",
    "        print('Start')\n",
    "        func()\n",
    "        print('End')\n",
    "    return mywrapper\n",
    "\n",
    "@mydecorator\n",
    "def print_name():\n",
    "    print('Alex')\n",
    "\n",
    "print_name()"
   ]
  },
  {
   "cell_type": "code",
   "execution_count": null,
   "metadata": {},
   "outputs": [],
   "source": [
    "# decorator for functions with positional argument: 'x'\n",
    "# with the syntax *args, **kwargs you can use as many arguments and keyword arguments as needed\n",
    "\n",
    "import functools\n",
    "\n",
    "def my_decorator(func):\n",
    "\n",
    "    @functools.wraps(func)\n",
    "    def wrapper(*args, **kwargs):\n",
    "        print('Start')\n",
    "        result = func(*args, **kwargs)\n",
    "        print('End')\n",
    "        return result\n",
    "    return wrapper\n",
    "\n",
    "@my_decorator\n",
    "def add5(x):\n",
    "    return x+5\n",
    "\n",
    "result = add5(5)\n",
    "print(result)"
   ]
  },
  {
   "cell_type": "markdown",
   "metadata": {},
   "source": [
    "### decorator template"
   ]
  },
  {
   "cell_type": "code",
   "execution_count": null,
   "metadata": {},
   "outputs": [],
   "source": [
    "import functools\n",
    "\n",
    "def my_decorator(func):\n",
    "\n",
    "    @functools.wraps(func)\n",
    "    def wrapper(*args, **kwargs):\n",
    "        # add functionality here\n",
    "        result = func(*args, **kwargs)\n",
    "        # add functionality here\n",
    "        return result\n",
    "    return wrapper\n",
    "\n",
    "@my_decorator\n",
    "def func(x):\n",
    "    return x\n",
    "\n",
    "result = func('x')\n",
    "print(result)"
   ]
  },
  {
   "cell_type": "code",
   "execution_count": null,
   "metadata": {},
   "outputs": [],
   "source": [
    "import functools\n",
    "\n",
    "def repeat(times):\n",
    "    def decorator_repeat(func):\n",
    "        @functools.wraps(func)\n",
    "        def wrapper (*args, **kwargs):\n",
    "            for _ in range(times):\n",
    "                result = func(*args, **kwargs)\n",
    "            return result\n",
    "        return wrapper\n",
    "    return decorator_repeat\n",
    "\n",
    "@repeat(times=3)\n",
    "def greet(name):\n",
    "    print(f'Hello {name}')\n",
    "\n",
    "greet('Lukas')"
   ]
  },
  {
   "cell_type": "markdown",
   "metadata": {},
   "source": [
    "### nested decorators"
   ]
  },
  {
   "cell_type": "code",
   "execution_count": null,
   "metadata": {},
   "outputs": [],
   "source": [
    "import functools\n",
    "\n",
    "def my_decorator(func):\n",
    "\n",
    "    @functools.wraps(func)\n",
    "    def wrapper(*args, **kwargs):\n",
    "        print('Start')\n",
    "        result = func(*args, **kwargs)\n",
    "        print('End')\n",
    "        return result\n",
    "    return wrapper\n",
    "\n",
    "def debug(func):\n",
    "    @functools.wraps(func)\n",
    "    def wrapper(*args, **kwargs):\n",
    "        args_repr = [repr(a) for a in args]\n",
    "        kwargs_repr = [f\"{k}={v!r}\" for k, v in kwargs.items()]\n",
    "        signature = \", \".join(args_repr + kwargs_repr)\n",
    "        print(f\"Calling {func.__name__}({signature})\")\n",
    "        result = func(*args, **kwargs)\n",
    "        print(f\"{func.__name__!r} returned {result!r}\")\n",
    "        return result\n",
    "    return wrapper\n",
    "\n",
    "@debug\n",
    "@my_decorator\n",
    "def say_hello(name):\n",
    "    greeting = f'Hello {name}'\n",
    "    print(greeting)\n",
    "\n",
    "# now `@debug` is executed first and calls `@my_decorator`, which then calls `say_hello`\n",
    "say_hello('Lukas')"
   ]
  },
  {
   "cell_type": "markdown",
   "metadata": {},
   "source": [
    "### class decorator\n",
    "same as function decorators, but typically used if you want to maintain an update as state"
   ]
  },
  {
   "cell_type": "code",
   "execution_count": null,
   "metadata": {},
   "outputs": [],
   "source": [
    "class CountCalls:\n",
    "\n",
    "    def __init__(self, func):\n",
    "        self.func = func\n",
    "        self.num_calls = 0\n",
    "\n",
    "    def __call__(self, *args, **kwargs):\n",
    "        self.num_calls += 1\n",
    "        print(f'This is executed {self.num_calls} times.')\n",
    "        return self.func(*args, **kwargs)\n",
    "\n",
    "\n",
    "@CountCalls\n",
    "def say_hello():\n",
    "    print('Hello')\n",
    "\n",
    "say_hello()\n",
    "say_hello()"
   ]
  },
  {
   "cell_type": "markdown",
   "metadata": {},
   "source": [
    "### use cases\n",
    "Use a timer decorator to calculate the execution time of a function \\\n",
    "Use a debug decorator to print out some more information about the called function and its arguments \\\n",
    "Use a check decorator to check if the arguments fulfill some requirements and adapt the bevaviour accordingly \\\n",
    "Register functions (plugins) \\\n",
    "Slow down code with time.sleep() to check network behaviour \\\n",
    "Cache the return values for memoization (https://en.wikipedia.org/wiki/Memoization) \\\n",
    "Add information or update a state"
   ]
  }
 ],
 "metadata": {
  "kernelspec": {
   "display_name": "Python 3.10.8 ('venv': venv)",
   "language": "python",
   "name": "python3"
  },
  "language_info": {
   "codemirror_mode": {
    "name": "ipython",
    "version": 3
   },
   "file_extension": ".py",
   "mimetype": "text/x-python",
   "name": "python",
   "nbconvert_exporter": "python",
   "pygments_lexer": "ipython3",
   "version": "3.10.8"
  },
  "orig_nbformat": 4,
  "vscode": {
   "interpreter": {
    "hash": "142ca9624609965c5345c206ad821a395b7b37f2798eab9c7d2bd58cb2dc44fe"
   }
  }
 },
 "nbformat": 4,
 "nbformat_minor": 2
}
