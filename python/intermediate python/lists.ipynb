{
 "cells": [
  {
   "cell_type": "markdown",
   "metadata": {},
   "source": [
    "# Lists\n",
    "ordered, mutable, allow duplicate elements"
   ]
  },
  {
   "cell_type": "markdown",
   "metadata": {},
   "source": [
    "### create lists"
   ]
  },
  {
   "cell_type": "code",
   "execution_count": null,
   "metadata": {},
   "outputs": [],
   "source": [
    "list1 = [1, 2, 3]\n",
    "print(list1)\n",
    "\n",
    "list2 = list()\n",
    "print(list2)\n",
    "\n",
    "list3 = [1, 'one', True, 'one']\n",
    "print(list3)\n",
    "\n",
    "item1 = list3[0]\n",
    "print(item1)\n",
    "\n",
    "item2 = list3[-1]\n",
    "print(item2)\n",
    "\n",
    "print(len(list3))"
   ]
  },
  {
   "cell_type": "markdown",
   "metadata": {},
   "source": [
    "### loops and statements"
   ]
  },
  {
   "cell_type": "code",
   "execution_count": null,
   "metadata": {},
   "outputs": [],
   "source": [
    "list1 = [1, 'one', True, 'one']\n",
    "print(list1)\n",
    "\n",
    "for i in list1:\n",
    "    print(i)\n",
    "\n",
    "if 'one' in list1:\n",
    "    print('yes')\n",
    "else:\n",
    "    print('no')"
   ]
  },
  {
   "cell_type": "markdown",
   "metadata": {},
   "source": [
    "### inserting and removing"
   ]
  },
  {
   "cell_type": "code",
   "execution_count": null,
   "metadata": {},
   "outputs": [],
   "source": [
    "list1 = [1, 'one', True, 'one']\n",
    "print(list1)\n",
    "\n",
    "list1.append('two')\n",
    "print(list1)\n",
    "\n",
    "list1.insert(1, 3)\n",
    "print(list1)\n",
    "\n",
    "list1.pop()\n",
    "print(list1)\n",
    "\n",
    "list1.remove('one')\n",
    "print(list1)\n",
    "\n",
    "list1.clear()\n",
    "print(list1)"
   ]
  },
  {
   "cell_type": "markdown",
   "metadata": {},
   "source": [
    "### sorting and reversing"
   ]
  },
  {
   "cell_type": "code",
   "execution_count": null,
   "metadata": {},
   "outputs": [],
   "source": [
    "list1 = [1, 5, 4, 3, 2]\n",
    "print(list1)\n",
    "\n",
    "new_list1 = sorted(list1)\n",
    "print(list1)\n",
    "print(new_list1)\n",
    "\n",
    "list1.sort()\n",
    "print(list1)\n",
    "\n",
    "list1.reverse()\n",
    "print(list1)"
   ]
  },
  {
   "cell_type": "markdown",
   "metadata": {},
   "source": [
    "### appending a list to another list"
   ]
  },
  {
   "cell_type": "code",
   "execution_count": null,
   "metadata": {},
   "outputs": [],
   "source": [
    "list1 = [1] * 5\n",
    "print(list1)\n",
    "\n",
    "list2 = [2] * 5\n",
    "print(list2)\n",
    "\n",
    "list3 = list1 + list2\n",
    "print(list3)"
   ]
  },
  {
   "cell_type": "markdown",
   "metadata": {},
   "source": [
    "### slicing"
   ]
  },
  {
   "cell_type": "code",
   "execution_count": null,
   "metadata": {},
   "outputs": [],
   "source": [
    "list1 = [1, 2, 3, 4, 5, 6, 7, 8, 9, 10]\n",
    "\n",
    "a = list1[1:5]\n",
    "print(a)\n",
    "\n",
    "a = list1[:5]\n",
    "print(a)\n",
    "\n",
    "a = list1[5:]\n",
    "print(a)\n",
    "\n",
    "a = list1[::1]\n",
    "print(a)\n",
    "\n",
    "a = list1[::2]\n",
    "print(a)\n",
    "\n",
    "a = list1[::-1]\n",
    "print(a)"
   ]
  },
  {
   "cell_type": "markdown",
   "metadata": {},
   "source": [
    "### copying"
   ]
  },
  {
   "cell_type": "code",
   "execution_count": null,
   "metadata": {},
   "outputs": [],
   "source": [
    "list1 = ['one', 'two', 'three']\n",
    "list2 = list1\n",
    "\n",
    "list2.append('four')\n",
    "\n",
    "print(list1)\n",
    "print(list2)\n",
    "\n",
    "list2 = list1.copy()\n",
    "\n",
    "list2.append('four')\n",
    "\n",
    "print(list1)\n",
    "print(list2)\n",
    "\n",
    "list2 = list(list1)\n",
    "\n",
    "list2.append('four')\n",
    "\n",
    "print(list1)\n",
    "print(list2)\n",
    "\n",
    "list2 = list1[:]\n",
    "\n",
    "list2.append('four')\n",
    "\n",
    "print(list1)\n",
    "print(list2)"
   ]
  },
  {
   "cell_type": "markdown",
   "metadata": {},
   "source": [
    "### list comprehension"
   ]
  },
  {
   "cell_type": "code",
   "execution_count": null,
   "metadata": {},
   "outputs": [],
   "source": [
    "a = [1, 2, 3, 4, 5]\n",
    "b = [i*i for i in a]\n",
    "print(a)\n",
    "print(b)"
   ]
  }
 ],
 "metadata": {
  "kernelspec": {
   "display_name": "Python 3.10.8 64-bit",
   "language": "python",
   "name": "python3"
  },
  "language_info": {
   "codemirror_mode": {
    "name": "ipython",
    "version": 3
   },
   "file_extension": ".py",
   "mimetype": "text/x-python",
   "name": "python",
   "nbconvert_exporter": "python",
   "pygments_lexer": "ipython3",
   "version": "3.10.8"
  },
  "orig_nbformat": 4,
  "vscode": {
   "interpreter": {
    "hash": "52634da84371cba311ea128a5ea7cdc41ff074b781779e754b270ff9f8153cee"
   }
  }
 },
 "nbformat": 4,
 "nbformat_minor": 2
}
