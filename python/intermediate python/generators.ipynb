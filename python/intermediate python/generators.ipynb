{
 "cells": [
  {
   "cell_type": "markdown",
   "metadata": {},
   "source": [
    "# Generators\n",
    "functions that return an iterable object \\\n",
    "generation of the items inside the object is lazy (one at a time and only when you ask for it) \\\n",
    "therefore they are much more memory efficient than other sequence objects"
   ]
  },
  {
   "cell_type": "markdown",
   "metadata": {},
   "source": [
    "### creating generators\n",
    "defined like a normal function but with the yield keyword instead of the return keyword"
   ]
  },
  {
   "cell_type": "code",
   "execution_count": null,
   "metadata": {},
   "outputs": [],
   "source": [
    "def my_generator():\n",
    "    yield 1\n",
    "    yield 2\n",
    "    yield 3\n",
    "\n",
    "g = my_generator()\n",
    "print(g)\n",
    "\n",
    "for i in g:\n",
    "    print(i)\n",
    "\n",
    "g = my_generator()\n",
    "print(g)\n",
    "\n",
    "value = next(g)\n",
    "print(value)\n",
    "\n",
    "value = next(g)\n",
    "print(value)"
   ]
  },
  {
   "cell_type": "code",
   "execution_count": null,
   "metadata": {},
   "outputs": [],
   "source": [
    "def countdown(num):\n",
    "    print('Starting')\n",
    "    while num >= 0:\n",
    "        yield num\n",
    "        num -= 1\n",
    "\n",
    "cd = countdown(5)\n",
    "\n",
    "print(next(cd))\n",
    "\n",
    "print(next(cd))\n"
   ]
  },
  {
   "cell_type": "code",
   "execution_count": null,
   "metadata": {},
   "outputs": [],
   "source": [
    "import sys\n",
    "\n",
    "def firstn(n):\n",
    "    nums = []\n",
    "    num = 0\n",
    "    while num < n:\n",
    "        nums.append(num)\n",
    "        num += 1\n",
    "    return nums\n",
    "\n",
    "def firstn_g(n):\n",
    "    num = 0\n",
    "    while num < n:\n",
    "        yield num\n",
    "        num += 1\n",
    "\n",
    "print(sum(firstn(10)))\n",
    "print(sum(firstn_g(10)))\n",
    "\n",
    "print(sys.getsizeof(firstn(10)))\n",
    "print(sys.getsizeof(firstn_g(10)))\n",
    "\n",
    "print(sys.getsizeof(firstn(100000)))\n",
    "print(sys.getsizeof(firstn_g(100000)))"
   ]
  },
  {
   "cell_type": "code",
   "execution_count": null,
   "metadata": {},
   "outputs": [],
   "source": [
    "def fibonacci(limit):\n",
    "    # 0 1 1 2 3 5 8 ...\n",
    "    a, b = 0, 1\n",
    "    while a < limit:\n",
    "        yield a\n",
    "        a, b = b, a+b\n",
    "\n",
    "fib = fibonacci(100)\n",
    "\n",
    "for i in fib:\n",
    "    print(i)\n"
   ]
  },
  {
   "cell_type": "code",
   "execution_count": null,
   "metadata": {},
   "outputs": [],
   "source": [
    "# generator expressions\n",
    "\n",
    "my_generator = (i for i in range(10) if i %2==0)\n",
    "\n",
    "for i in my_generator:\n",
    "    print(i)\n",
    "\n",
    "my_generator = (i for i in range(10) if i %2==0)\n",
    "\n",
    "print(list(my_generator))\n",
    "\n",
    "print(list(my_generator))\n",
    "\n",
    "# comparison to list comprehension\n",
    "\n",
    "my_list = [i for i in range(10) if i %2==0]\n",
    "print(my_list)"
   ]
  },
  {
   "cell_type": "code",
   "execution_count": null,
   "metadata": {},
   "outputs": [],
   "source": []
  }
 ],
 "metadata": {
  "kernelspec": {
   "display_name": "Python 3.10.8 ('venv': venv)",
   "language": "python",
   "name": "python3"
  },
  "language_info": {
   "codemirror_mode": {
    "name": "ipython",
    "version": 3
   },
   "file_extension": ".py",
   "mimetype": "text/x-python",
   "name": "python",
   "nbconvert_exporter": "python",
   "pygments_lexer": "ipython3",
   "version": "3.10.8"
  },
  "orig_nbformat": 4,
  "vscode": {
   "interpreter": {
    "hash": "142ca9624609965c5345c206ad821a395b7b37f2798eab9c7d2bd58cb2dc44fe"
   }
  }
 },
 "nbformat": 4,
 "nbformat_minor": 2
}
