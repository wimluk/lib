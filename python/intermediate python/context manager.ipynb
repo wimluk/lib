{
 "cells": [
  {
   "cell_type": "markdown",
   "metadata": {},
   "source": [
    "# Context manager"
   ]
  },
  {
   "cell_type": "code",
   "execution_count": null,
   "metadata": {},
   "outputs": [],
   "source": [
    "# context manager automatically closes in case of an exception\n",
    "with open('notes.txt', 'w') as f:\n",
    "    f.write('some todo...')\n",
    "\n",
    "# this is how it would look like\n",
    "f = open('notes.txt', 'w')\n",
    "try:\n",
    "    f.write('some todo...')\n",
    "finally:\n",
    "    f.close()"
   ]
  },
  {
   "cell_type": "code",
   "execution_count": null,
   "metadata": {},
   "outputs": [],
   "source": [
    "class ManagedFile:\n",
    "    def __init__(self, filename):\n",
    "        print('init', filename)\n",
    "        self.filename = filename\n",
    "        \n",
    "    def __enter__(self):\n",
    "        print('enter')\n",
    "        self.file = open(self.filename, 'w')\n",
    "        return self.file\n",
    "        \n",
    "    def __exit__(self, exc_type, exc_value, exc_traceback):\n",
    "        if self.file:\n",
    "            self.file.close()\n",
    "        print('exit')\n",
    "            \n",
    "with ManagedFile('notes.txt') as f:\n",
    "    print('doing stuff...')\n",
    "    f.write('some todo...')"
   ]
  },
  {
   "cell_type": "code",
   "execution_count": null,
   "metadata": {},
   "outputs": [],
   "source": [
    "class ManagedFile:\n",
    "    def __init__(self, filename):\n",
    "        print('init', filename)\n",
    "        self.filename = filename\n",
    "        \n",
    "    def __enter__(self):\n",
    "        print('enter')\n",
    "        self.file = open(self.filename, 'w')\n",
    "        return self.file\n",
    "        \n",
    "    def __exit__(self, exc_type, exc_value, exc_traceback):\n",
    "        if self.file:\n",
    "            self.file.close()\n",
    "        print('exc:', exc_type, exc_value)\n",
    "        print('exit')\n",
    "\n",
    "# No exception\n",
    "with ManagedFile('notes.txt') as f:\n",
    "    print('doing stuff...')\n",
    "    f.write('some todo...')\n",
    "print('continuing...')\n",
    "\n",
    "print()\n",
    "\n",
    "# Exception is raised, but the file can still be closed\n",
    "with ManagedFile('notes2.txt') as f:\n",
    "    print('doing stuff...')\n",
    "    f.write('some todo...')\n",
    "    f.do_something()\n",
    "print('continuing...')"
   ]
  },
  {
   "cell_type": "code",
   "execution_count": 5,
   "metadata": {},
   "outputs": [
    {
     "name": "stdout",
     "output_type": "stream",
     "text": [
      "init notes2.txt\n",
      "enter\n",
      "doing stuff...\n",
      "Exception has been handled\n",
      "exit\n",
      "continuing...\n"
     ]
    }
   ],
   "source": [
    "class ManagedFile:\n",
    "    def __init__(self, filename):\n",
    "        print('init', filename)\n",
    "        self.filename = filename\n",
    "        \n",
    "    def __enter__(self):\n",
    "        print('enter')\n",
    "        self.file = open(self.filename, 'w')\n",
    "        return self.file\n",
    "        \n",
    "    def __exit__(self, exc_type, exc_value, exc_traceback):\n",
    "        if self.file:\n",
    "            self.file.close()\n",
    "        if exc_type is not None:\n",
    "            print('Exception has been handled')\n",
    "        print('exit')\n",
    "        return True\n",
    "\n",
    "\n",
    "with ManagedFile('notes2.txt') as f:\n",
    "    print('doing stuff...')\n",
    "    f.write('some todo...')\n",
    "    f.do_something()\n",
    "print('continuing...')"
   ]
  },
  {
   "cell_type": "code",
   "execution_count": 6,
   "metadata": {},
   "outputs": [],
   "source": [
    "from contextlib import contextmanager\n",
    "\n",
    "@contextmanager\n",
    "def open_managed_file(filename):\n",
    "    f = open(filename, 'w')\n",
    "    try:\n",
    "        yield f\n",
    "    finally:\n",
    "        f.close()\n",
    "        \n",
    "with open_managed_file('notes.txt') as f:\n",
    "    f.write('some todo...')"
   ]
  }
 ],
 "metadata": {
  "kernelspec": {
   "display_name": "Python 3.10.8 ('venv': venv)",
   "language": "python",
   "name": "python3"
  },
  "language_info": {
   "codemirror_mode": {
    "name": "ipython",
    "version": 3
   },
   "file_extension": ".py",
   "mimetype": "text/x-python",
   "name": "python",
   "nbconvert_exporter": "python",
   "pygments_lexer": "ipython3",
   "version": "3.10.8"
  },
  "orig_nbformat": 4,
  "vscode": {
   "interpreter": {
    "hash": "142ca9624609965c5345c206ad821a395b7b37f2798eab9c7d2bd58cb2dc44fe"
   }
  }
 },
 "nbformat": 4,
 "nbformat_minor": 2
}
