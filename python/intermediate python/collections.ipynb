{
 "cells": [
  {
   "cell_type": "markdown",
   "metadata": {},
   "source": [
    "# Collections\n",
    "counter, namedtuple, ordereddict, defaultdict, deque"
   ]
  },
  {
   "cell_type": "code",
   "execution_count": null,
   "metadata": {},
   "outputs": [],
   "source": [
    "from collections import Counter\n",
    "\n",
    "a = [1, 2, 3, 4, 3, 2, 1, 2, 3, 2, 1, 2, 3, 1, 1, ]\n",
    "\n",
    "counter = Counter(a)\n",
    "print(counter)\n",
    "print(counter.items())\n",
    "print(counter.keys())\n",
    "print(counter.values())\n",
    "print(counter.most_common(1))\n",
    "print(counter.most_common(1)[0])\n",
    "print(counter.most_common(1)[0][0])\n",
    "print(counter.elements())\n",
    "print(list(counter.elements()))\n",
    "\n",
    "a = \"aaaaabbbddaas\"\n",
    "\n",
    "counter = Counter(a)\n",
    "print(counter)\n",
    "print(counter.items())\n",
    "print(counter.keys())\n",
    "print(counter.values())\n",
    "print(counter.most_common(1))\n",
    "print(counter.most_common(1)[0])\n",
    "print(counter.most_common(1)[0][0])\n",
    "print(counter.elements())\n",
    "print(list(counter.elements()))\n"
   ]
  },
  {
   "cell_type": "code",
   "execution_count": null,
   "metadata": {},
   "outputs": [],
   "source": [
    "from collections import namedtuple\n",
    "\n",
    "point = namedtuple('point','x,y')\n",
    "pt = point(1,2)\n",
    "print(pt)\n",
    "print(pt.x,pt.y)"
   ]
  },
  {
   "cell_type": "code",
   "execution_count": null,
   "metadata": {},
   "outputs": [],
   "source": [
    "from collections import OrderedDict\n",
    "\n",
    "# can be used for older python versions\n",
    "\n",
    "ordered_dict = OrderedDict()\n",
    "\n",
    "ordered_dict['b'] = 2\n",
    "ordered_dict['c'] = 3\n",
    "ordered_dict['d'] = 4\n",
    "ordered_dict['a'] = 1\n",
    "\n",
    "print(ordered_dict)\n",
    "\n",
    "# for newer python versions a dict also remembers the order\n",
    "\n",
    "ordered_dict = {}\n",
    "\n",
    "ordered_dict['b'] = 2\n",
    "ordered_dict['c'] = 3\n",
    "ordered_dict['d'] = 4\n",
    "ordered_dict['a'] = 1\n",
    "\n",
    "print(ordered_dict)"
   ]
  },
  {
   "cell_type": "code",
   "execution_count": null,
   "metadata": {},
   "outputs": [],
   "source": [
    "from collections import defaultdict\n",
    "\n",
    "# normal dict with default value if key has not been set\n",
    "\n",
    "d = defaultdict(int)\n",
    "\n",
    "d['a'] = 1\n",
    "d['b'] = 2\n",
    "\n",
    "print(d['a'])\n",
    "print(d['b'])\n",
    "print(d['c'])"
   ]
  },
  {
   "cell_type": "code",
   "execution_count": null,
   "metadata": {},
   "outputs": [],
   "source": [
    "from collections import deque\n",
    "\n",
    "# double ended queue,  can be used to add or remove elements from both ends efficiently\n",
    "\n",
    "d = deque()\n",
    "\n",
    "d.append(1)\n",
    "d.append(2)\n",
    "print(d)\n",
    "\n",
    "d.appendleft(3)\n",
    "print(d)\n",
    "\n",
    "d.pop()\n",
    "print(d)\n",
    "\n",
    "d.popleft()\n",
    "print(d)\n",
    "\n",
    "d.extend([4, 5, 6])\n",
    "print(d)\n",
    "\n",
    "d.extendleft([1, 2, 3, 4])\n",
    "print(d)\n",
    "\n",
    "d.rotate(1)\n",
    "print(d)\n",
    "\n",
    "d.rotate(2)\n",
    "print(d)\n",
    "\n",
    "d.rotate(-1)\n",
    "print(d)\n",
    "\n",
    "d.clear()\n",
    "print(d)"
   ]
  }
 ],
 "metadata": {
  "kernelspec": {
   "display_name": "Python 3.10.8 ('venv': venv)",
   "language": "python",
   "name": "python3"
  },
  "language_info": {
   "name": "python",
   "version": "3.10.8"
  },
  "orig_nbformat": 4,
  "vscode": {
   "interpreter": {
    "hash": "142ca9624609965c5345c206ad821a395b7b37f2798eab9c7d2bd58cb2dc44fe"
   }
  }
 },
 "nbformat": 4,
 "nbformat_minor": 2
}
