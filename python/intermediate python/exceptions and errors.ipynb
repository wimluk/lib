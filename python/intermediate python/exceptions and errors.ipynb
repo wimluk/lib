{
 "cells": [
  {
   "cell_type": "markdown",
   "metadata": {},
   "source": [
    "# ExceptionsAndErrors\n",
    "syntax error or exeption, built in exeptions, handle exeptions, define exeptions"
   ]
  },
  {
   "cell_type": "code",
   "execution_count": null,
   "metadata": {},
   "outputs": [],
   "source": [
    "# syntax error\n",
    "\n",
    "a = 5\n",
    "# print(a))"
   ]
  },
  {
   "cell_type": "code",
   "execution_count": null,
   "metadata": {},
   "outputs": [],
   "source": [
    "# type error\n",
    "\n",
    "a = 5 + \"10\"\n",
    "print(a)"
   ]
  },
  {
   "cell_type": "code",
   "execution_count": null,
   "metadata": {},
   "outputs": [],
   "source": [
    "# import error\n",
    "\n",
    "# import somemodule"
   ]
  },
  {
   "cell_type": "code",
   "execution_count": null,
   "metadata": {},
   "outputs": [],
   "source": [
    "# name error\n",
    "\n",
    "a = 5\n",
    "# b = name_error_test"
   ]
  },
  {
   "cell_type": "code",
   "execution_count": null,
   "metadata": {},
   "outputs": [],
   "source": [
    "# file not found error\n",
    "\n",
    "f = open(\"file.txt\")"
   ]
  },
  {
   "cell_type": "code",
   "execution_count": null,
   "metadata": {},
   "outputs": [],
   "source": [
    "# value error\n",
    "\n",
    "a = [1, 2, 3]\n",
    "a.remove(4)"
   ]
  },
  {
   "cell_type": "code",
   "execution_count": null,
   "metadata": {},
   "outputs": [],
   "source": [
    "# index error\n",
    "\n",
    "a = [1, 2, 3]\n",
    "a[3]"
   ]
  },
  {
   "cell_type": "code",
   "execution_count": null,
   "metadata": {},
   "outputs": [],
   "source": [
    "# key error\n",
    "\n",
    "mydict = {'name':'max'}\n",
    "mydict['age']"
   ]
  },
  {
   "cell_type": "code",
   "execution_count": null,
   "metadata": {},
   "outputs": [],
   "source": [
    "# raise exceptions\n",
    "\n",
    "x = -5\n",
    "if x < 0:\n",
    "    raise Exception('x must be positive')"
   ]
  },
  {
   "cell_type": "code",
   "execution_count": null,
   "metadata": {},
   "outputs": [],
   "source": [
    "# assert error\n",
    "\n",
    "x = -5\n",
    "assert(x>=0), 'x must be positive'"
   ]
  },
  {
   "cell_type": "markdown",
   "metadata": {},
   "source": [
    "### handle exceptions"
   ]
  },
  {
   "cell_type": "code",
   "execution_count": null,
   "metadata": {},
   "outputs": [],
   "source": [
    "# exception clause is running when exception occurs\n",
    "# else clause is running when no exception occurs\n",
    "# finally clause runs always (used for cleaning up methods)\n",
    "\n",
    "try:\n",
    "    a = 5/0\n",
    "except:\n",
    "    print('error')\n",
    "\n",
    "try:\n",
    "    a = 5/0\n",
    "    b = a+\"2\"\n",
    "except Exception as e:\n",
    "    print(e)\n",
    "\n",
    "try:\n",
    "    a = 5/0\n",
    "    b = a+\"2\"\n",
    "except ZeroDivisionError as e:\n",
    "    print(e)\n",
    "except TypeError as e:\n",
    "    print(e)\n",
    "\n",
    "try:\n",
    "    a = 5/1\n",
    "except Exception as e:\n",
    "    print(e)\n",
    "else:\n",
    "    print('ok')\n",
    "finally:\n",
    "    print('cleaning up...')"
   ]
  },
  {
   "cell_type": "markdown",
   "metadata": {},
   "source": [
    "### define exeptions"
   ]
  },
  {
   "cell_type": "code",
   "execution_count": null,
   "metadata": {},
   "outputs": [],
   "source": [
    "class ValueTooHighError(Exception):\n",
    "    pass\n",
    "\n",
    "class ValueTooSmallError(Exception):\n",
    "    def __init__(self, *args: object) -> None:\n",
    "        super().__init__(*args)\n",
    "\n",
    "class ValueEqualsError(Exception):\n",
    "    def __init__(self, message, value):\n",
    "        self.message = message\n",
    "        self.value = value\n",
    "\n",
    "def testvalue(x):\n",
    "    if x > 100:\n",
    "        raise ValueTooHighError('Value is too high')\n",
    "    if x < 10:\n",
    "        raise ValueTooSmallError('Value is too small', x)\n",
    "    if x == 50:\n",
    "        raise ValueEqualsError('Value eqauls 50', x)\n",
    "\n",
    "try:\n",
    "    testvalue(200)\n",
    "except Exception as e:\n",
    "    print(e)\n",
    "\n",
    "try:\n",
    "    testvalue(5)\n",
    "except ValueTooHighError as e:\n",
    "    print(e)\n",
    "except ValueTooSmallError as e:\n",
    "    print(e.args)\n",
    "    print(e.args[0])\n",
    "    print(e.args[1])\n",
    "\n",
    "try:\n",
    "    testvalue(50)\n",
    "except ValueEqualsError as e:\n",
    "    print(e.message, e.value)"
   ]
  }
 ],
 "metadata": {
  "kernelspec": {
   "display_name": "Python 3.10.8 ('venv': venv)",
   "language": "python",
   "name": "python3"
  },
  "language_info": {
   "codemirror_mode": {
    "name": "ipython",
    "version": 3
   },
   "file_extension": ".py",
   "mimetype": "text/x-python",
   "name": "python",
   "nbconvert_exporter": "python",
   "pygments_lexer": "ipython3",
   "version": "3.10.8"
  },
  "orig_nbformat": 4,
  "vscode": {
   "interpreter": {
    "hash": "142ca9624609965c5345c206ad821a395b7b37f2798eab9c7d2bd58cb2dc44fe"
   }
  }
 },
 "nbformat": 4,
 "nbformat_minor": 2
}
